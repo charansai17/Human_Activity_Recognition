{
  "nbformat": 4,
  "nbformat_minor": 0,
  "metadata": {
    "kernelspec": {
      "display_name": "Python 3",
      "language": "python",
      "name": "python3"
    },
    "language_info": {
      "codemirror_mode": {
        "name": "ipython",
        "version": 3
      },
      "file_extension": ".py",
      "mimetype": "text/x-python",
      "name": "python",
      "nbconvert_exporter": "python",
      "pygments_lexer": "ipython3",
      "version": "3.6.1"
    },
    "colab": {
      "name": "HAR_LSTM.ipynb",
      "provenance": [],
      "collapsed_sections": []
    }
  },
  "cells": [
    {
      "cell_type": "code",
      "metadata": {
        "id": "MvE2ylCnCZWR",
        "colab_type": "code",
        "colab": {}
      },
      "source": [
        "# Importing Libraries"
      ],
      "execution_count": 0,
      "outputs": []
    },
    {
      "cell_type": "code",
      "metadata": {
        "id": "-5GG8XCsnemC",
        "colab_type": "code",
        "colab": {
          "base_uri": "https://localhost:8080/",
          "height": 34
        },
        "outputId": "ad0dec78-3651-44d4-f78e-7fc1cd06bd1a"
      },
      "source": [
        "%tensorflow_version 1.x"
      ],
      "execution_count": 1,
      "outputs": [
        {
          "output_type": "stream",
          "text": [
            "TensorFlow 1.x selected.\n"
          ],
          "name": "stdout"
        }
      ]
    },
    {
      "cell_type": "code",
      "metadata": {
        "id": "XGFcnk5PCZWb",
        "colab_type": "code",
        "colab": {}
      },
      "source": [
        "import pandas as pd\n",
        "import numpy as np"
      ],
      "execution_count": 0,
      "outputs": []
    },
    {
      "cell_type": "code",
      "metadata": {
        "id": "kTxh-OlRV2SR",
        "colab_type": "code",
        "outputId": "0bf16a3c-39fe-437a-854c-cf784b90b949",
        "colab": {
          "base_uri": "https://localhost:8080/",
          "height": 34
        }
      },
      "source": [
        "from google.colab import drive\n",
        "drive.mount('/content/drive', force_remount=True)"
      ],
      "execution_count": 2,
      "outputs": [
        {
          "output_type": "stream",
          "text": [
            "Mounted at /content/drive\n"
          ],
          "name": "stdout"
        }
      ]
    },
    {
      "cell_type": "code",
      "metadata": {
        "id": "MqBV052pCZWj",
        "colab_type": "code",
        "colab": {}
      },
      "source": [
        "# Activities are the class labels\n",
        "# It is a 6 class classification\n",
        "ACTIVITIES = {\n",
        "    0: 'WALKING',\n",
        "    1: 'WALKING_UPSTAIRS',\n",
        "    2: 'WALKING_DOWNSTAIRS',\n",
        "    3: 'SITTING',\n",
        "    4: 'STANDING',\n",
        "    5: 'LAYING',\n",
        "}\n",
        "\n",
        "# Utility function to print the confusion matrix\n",
        "def confusion_matrix(Y_true, Y_pred):\n",
        "    Y_true = pd.Series([ACTIVITIES[y] for y in np.argmax(Y_true, axis=1)])\n",
        "    Y_pred = pd.Series([ACTIVITIES[y] for y in np.argmax(Y_pred, axis=1)])\n",
        "\n",
        "    return pd.crosstab(Y_true, Y_pred, rownames=['True'], colnames=['Pred'])"
      ],
      "execution_count": 0,
      "outputs": []
    },
    {
      "cell_type": "markdown",
      "metadata": {
        "id": "nTqWeaXaCZWr",
        "colab_type": "text"
      },
      "source": [
        "### Data"
      ]
    },
    {
      "cell_type": "code",
      "metadata": {
        "id": "9k0-HPzhCZWt",
        "colab_type": "code",
        "colab": {}
      },
      "source": [
        "# Data directory\n",
        "DATADIR = '/content/drive/My Drive/Colab Notebooks/HumanActivityRecognition/HAR/UCI_HAR_Dataset'"
      ],
      "execution_count": 0,
      "outputs": []
    },
    {
      "cell_type": "code",
      "metadata": {
        "id": "kyOXLaEVCZW1",
        "colab_type": "code",
        "colab": {}
      },
      "source": [
        "# Raw data signals\n",
        "# Signals are from Accelerometer and Gyroscope\n",
        "# The signals are in x,y,z directions\n",
        "# Sensor signals are filtered to have only body acceleration\n",
        "# excluding the acceleration due to gravity\n",
        "# Triaxial acceleration from the accelerometer is total acceleration\n",
        "SIGNALS = [\n",
        "    \"body_acc_x\",\n",
        "    \"body_acc_y\",\n",
        "    \"body_acc_z\",\n",
        "    \"body_gyro_x\",\n",
        "    \"body_gyro_y\",\n",
        "    \"body_gyro_z\",\n",
        "    \"total_acc_x\",\n",
        "    \"total_acc_y\",\n",
        "    \"total_acc_z\"\n",
        "]"
      ],
      "execution_count": 0,
      "outputs": []
    },
    {
      "cell_type": "code",
      "metadata": {
        "id": "CAJeuv5gCZW8",
        "colab_type": "code",
        "colab": {}
      },
      "source": [
        "# Utility function to read the data from csv file\n",
        "def _read_csv(filename):\n",
        "    return pd.read_csv(filename, delim_whitespace=True, header=None)\n",
        "\n",
        "# Utility function to load the load\n",
        "def load_signals(subset):\n",
        "    signals_data = []\n",
        "\n",
        "    for signal in SIGNALS:\n",
        "        filename = f'/content/drive/My Drive/Colab Notebooks/HumanActivityRecognition/HAR/UCI_HAR_Dataset/{subset}/Inertial Signals/{signal}_{subset}.txt'\n",
        "        signals_data.append(\n",
        "            _read_csv(filename).as_matrix()\n",
        "        ) \n",
        "\n",
        "    # Transpose is used to change the dimensionality of the output,\n",
        "    # aggregating the signals by combination of sample/timestep.\n",
        "    # Resultant shape is (7352 train/2947 test samples, 128 timesteps, 9 signals)\n",
        "    return np.transpose(signals_data, (1, 2, 0))"
      ],
      "execution_count": 0,
      "outputs": []
    },
    {
      "cell_type": "code",
      "metadata": {
        "id": "-GJzTmA2CZXE",
        "colab_type": "code",
        "colab": {}
      },
      "source": [
        "def load_y(subset):\n",
        "    \"\"\"\n",
        "    The objective that we are trying to predict is a integer, from 1 to 6,\n",
        "    that represents a human activity. \n",
        "    \"\"\"\n",
        "    filename = f'/content/drive/My Drive/Colab Notebooks/HumanActivityRecognition/HAR/UCI_HAR_Dataset/{subset}/y_{subset}.txt'\n",
        "    y = _read_csv(filename)[0]\n",
        "\n",
        "    return pd.get_dummies(y).as_matrix()"
      ],
      "execution_count": 0,
      "outputs": []
    },
    {
      "cell_type": "code",
      "metadata": {
        "id": "Z4_-PTmSCZXJ",
        "colab_type": "code",
        "colab": {}
      },
      "source": [
        "def load_data():\n",
        "    \"\"\"\n",
        "    Obtain the dataset from multiple files.\n",
        "    Returns: X_train, X_test, y_train, y_test\n",
        "    \"\"\"\n",
        "    X_train, X_test = load_signals('train'), load_signals('test')\n",
        "    y_train, y_test = load_y('train'), load_y('test')\n",
        "\n",
        "    return X_train, X_test, y_train, y_test"
      ],
      "execution_count": 0,
      "outputs": []
    },
    {
      "cell_type": "code",
      "metadata": {
        "id": "o0EaabcoCZXO",
        "colab_type": "code",
        "colab": {}
      },
      "source": [
        "# Importing tensorflow\n",
        "np.random.seed(42)\n",
        "import tensorflow as tf\n",
        "tf.set_random_seed(42)"
      ],
      "execution_count": 0,
      "outputs": []
    },
    {
      "cell_type": "code",
      "metadata": {
        "id": "FIOH8P7dCZXY",
        "colab_type": "code",
        "colab": {}
      },
      "source": [
        "# Configuring a session\n",
        "session_conf = tf.ConfigProto(\n",
        "    intra_op_parallelism_threads=1,\n",
        "    inter_op_parallelism_threads=1\n",
        ")"
      ],
      "execution_count": 0,
      "outputs": []
    },
    {
      "cell_type": "code",
      "metadata": {
        "id": "_j-hxjTtCZXe",
        "colab_type": "code",
        "outputId": "869478a8-712d-4929-947a-21ddfcf7a02f",
        "colab": {
          "base_uri": "https://localhost:8080/",
          "height": 34
        }
      },
      "source": [
        "# Import Keras\n",
        "from keras import backend as K\n",
        "sess = tf.Session(graph=tf.get_default_graph(), config=session_conf)\n",
        "K.set_session(sess)"
      ],
      "execution_count": 13,
      "outputs": [
        {
          "output_type": "stream",
          "text": [
            "Using TensorFlow backend.\n"
          ],
          "name": "stderr"
        }
      ]
    },
    {
      "cell_type": "code",
      "metadata": {
        "id": "Etzy3luDCZXl",
        "colab_type": "code",
        "colab": {}
      },
      "source": [
        "# Importing libraries\n",
        "from keras.models import Sequential\n",
        "from keras.layers import LSTM\n",
        "from keras.layers.core import Dense, Dropout"
      ],
      "execution_count": 0,
      "outputs": []
    },
    {
      "cell_type": "code",
      "metadata": {
        "id": "_TD5K5G3CZXr",
        "colab_type": "code",
        "colab": {}
      },
      "source": [
        "# Initializing parameters\n",
        "\n",
        "epochs = 30\n",
        "batch_size = 16\n",
        "n_hidden = 32\n"
      ],
      "execution_count": 0,
      "outputs": []
    },
    {
      "cell_type": "code",
      "metadata": {
        "id": "ROnKkEPTCZXx",
        "colab_type": "code",
        "colab": {}
      },
      "source": [
        "# Utility function to count the number of classes\n",
        "def _count_classes(y):\n",
        "    return len(set([tuple(category) for category in y]))"
      ],
      "execution_count": 0,
      "outputs": []
    },
    {
      "cell_type": "code",
      "metadata": {
        "id": "MrxrrFW7CZX3",
        "colab_type": "code",
        "outputId": "b9fb83fe-d830-4be5-f721-41c9d5658920",
        "colab": {
          "base_uri": "https://localhost:8080/",
          "height": 85
        }
      },
      "source": [
        "# Loading the train and test data\n",
        "X_train, X_test, Y_train, Y_test = load_data()"
      ],
      "execution_count": 17,
      "outputs": [
        {
          "output_type": "stream",
          "text": [
            "/usr/local/lib/python3.6/dist-packages/ipykernel_launcher.py:11: FutureWarning: Method .as_matrix will be removed in a future version. Use .values instead.\n",
            "  # This is added back by InteractiveShellApp.init_path()\n",
            "/usr/local/lib/python3.6/dist-packages/ipykernel_launcher.py:9: FutureWarning: Method .as_matrix will be removed in a future version. Use .values instead.\n",
            "  if __name__ == '__main__':\n"
          ],
          "name": "stderr"
        }
      ]
    },
    {
      "cell_type": "code",
      "metadata": {
        "id": "dvQ3DEhMCZX8",
        "colab_type": "code",
        "outputId": "c0f1c897-5183-44b3-8836-b2897e4fde05",
        "colab": {
          "base_uri": "https://localhost:8080/",
          "height": 85
        }
      },
      "source": [
        "timesteps = len(X_train[0])\n",
        "input_dim = len(X_train[0][0])\n",
        "n_classes = _count_classes(Y_train)\n",
        "\n",
        "print(timesteps)\n",
        "print(input_dim)\n",
        "print(len(X_train))\n",
        "print(n_classes)"
      ],
      "execution_count": 18,
      "outputs": [
        {
          "output_type": "stream",
          "text": [
            "128\n",
            "9\n",
            "7352\n",
            "6\n"
          ],
          "name": "stdout"
        }
      ]
    },
    {
      "cell_type": "code",
      "metadata": {
        "id": "uAecFKmmdX5G",
        "colab_type": "code",
        "colab": {}
      },
      "source": [
        "def plt_dynamic(x, vy, ty, ax, colors=['b']):\n",
        "    ax.plot(x, vy, 'b', label=\"Validation Loss\")\n",
        "    ax.plot(x, ty, 'r', label=\"Train Loss\")\n",
        "    plt.legend()\n",
        "    plt.grid()\n",
        "    fig.canvas.draw()"
      ],
      "execution_count": 0,
      "outputs": []
    },
    {
      "cell_type": "markdown",
      "metadata": {
        "id": "8Ah1l4_gCZYC",
        "colab_type": "text"
      },
      "source": [
        "- Defining the Architecture of LSTM"
      ]
    },
    {
      "cell_type": "code",
      "metadata": {
        "id": "PmAh3J9PCZYE",
        "colab_type": "code",
        "outputId": "cb1859eb-50e4-4a44-f1cd-fcd98d395be6",
        "colab": {
          "base_uri": "https://localhost:8080/",
          "height": 428
        }
      },
      "source": [
        "# Initiliazing the sequential model\n",
        "model = Sequential()\n",
        "# Configuring the parameters\n",
        "model.add(LSTM(n_hidden, input_shape=(timesteps, input_dim)))\n",
        "# Adding a dropout layer\n",
        "model.add(Dropout(0.5))\n",
        "# Adding a dense output layer with sigmoid activation\n",
        "model.add(Dense(n_classes, activation='sigmoid'))\n",
        "model.summary()"
      ],
      "execution_count": 0,
      "outputs": [
        {
          "output_type": "stream",
          "text": [
            "WARNING:tensorflow:From /usr/local/lib/python3.6/dist-packages/keras/backend/tensorflow_backend.py:541: The name tf.placeholder is deprecated. Please use tf.compat.v1.placeholder instead.\n",
            "\n",
            "WARNING:tensorflow:From /usr/local/lib/python3.6/dist-packages/keras/backend/tensorflow_backend.py:4432: The name tf.random_uniform is deprecated. Please use tf.random.uniform instead.\n",
            "\n",
            "WARNING:tensorflow:From /usr/local/lib/python3.6/dist-packages/keras/backend/tensorflow_backend.py:148: The name tf.placeholder_with_default is deprecated. Please use tf.compat.v1.placeholder_with_default instead.\n",
            "\n",
            "WARNING:tensorflow:From /usr/local/lib/python3.6/dist-packages/keras/backend/tensorflow_backend.py:3733: calling dropout (from tensorflow.python.ops.nn_ops) with keep_prob is deprecated and will be removed in a future version.\n",
            "Instructions for updating:\n",
            "Please use `rate` instead of `keep_prob`. Rate should be set to `rate = 1 - keep_prob`.\n",
            "Model: \"sequential_1\"\n",
            "_________________________________________________________________\n",
            "Layer (type)                 Output Shape              Param #   \n",
            "=================================================================\n",
            "lstm_1 (LSTM)                (None, 32)                5376      \n",
            "_________________________________________________________________\n",
            "dropout_1 (Dropout)          (None, 32)                0         \n",
            "_________________________________________________________________\n",
            "dense_1 (Dense)              (None, 6)                 198       \n",
            "=================================================================\n",
            "Total params: 5,574\n",
            "Trainable params: 5,574\n",
            "Non-trainable params: 0\n",
            "_________________________________________________________________\n"
          ],
          "name": "stdout"
        }
      ]
    },
    {
      "cell_type": "code",
      "metadata": {
        "id": "o3FfaYIoCZYJ",
        "colab_type": "code",
        "outputId": "4c6e6057-7b32-4657-91e6-b56479cf7476",
        "colab": {
          "base_uri": "https://localhost:8080/",
          "height": 105
        }
      },
      "source": [
        "# Compiling the model\n",
        "model.compile(loss='categorical_crossentropy',\n",
        "              optimizer='rmsprop',\n",
        "              metrics=['accuracy'])"
      ],
      "execution_count": 0,
      "outputs": [
        {
          "output_type": "stream",
          "text": [
            "WARNING:tensorflow:From /usr/local/lib/python3.6/dist-packages/keras/optimizers.py:793: The name tf.train.Optimizer is deprecated. Please use tf.compat.v1.train.Optimizer instead.\n",
            "\n",
            "WARNING:tensorflow:From /usr/local/lib/python3.6/dist-packages/keras/backend/tensorflow_backend.py:3576: The name tf.log is deprecated. Please use tf.math.log instead.\n",
            "\n"
          ],
          "name": "stdout"
        }
      ]
    },
    {
      "cell_type": "code",
      "metadata": {
        "id": "GTv2sFiBCZYP",
        "colab_type": "code",
        "outputId": "21f39052-1a6a-43c5-fc76-01420e88aacb",
        "colab": {
          "base_uri": "https://localhost:8080/",
          "height": 1000
        }
      },
      "source": [
        "# Training the model\n",
        "model.fit(X_train,\n",
        "          Y_train,\n",
        "          batch_size=batch_size,\n",
        "          validation_data=(X_test, Y_test),\n",
        "          epochs=epochs)"
      ],
      "execution_count": 0,
      "outputs": [
        {
          "output_type": "stream",
          "text": [
            "WARNING:tensorflow:From /usr/local/lib/python3.6/dist-packages/tensorflow_core/python/ops/math_grad.py:1424: where (from tensorflow.python.ops.array_ops) is deprecated and will be removed in a future version.\n",
            "Instructions for updating:\n",
            "Use tf.where in 2.0, which has the same broadcast rule as np.where\n",
            "WARNING:tensorflow:From /usr/local/lib/python3.6/dist-packages/keras/backend/tensorflow_backend.py:1033: The name tf.assign_add is deprecated. Please use tf.compat.v1.assign_add instead.\n",
            "\n",
            "WARNING:tensorflow:From /usr/local/lib/python3.6/dist-packages/keras/backend/tensorflow_backend.py:1020: The name tf.assign is deprecated. Please use tf.compat.v1.assign instead.\n",
            "\n",
            "Train on 7352 samples, validate on 2947 samples\n",
            "Epoch 1/30\n",
            "WARNING:tensorflow:From /usr/local/lib/python3.6/dist-packages/keras/backend/tensorflow_backend.py:190: The name tf.get_default_session is deprecated. Please use tf.compat.v1.get_default_session instead.\n",
            "\n",
            "WARNING:tensorflow:From /usr/local/lib/python3.6/dist-packages/keras/backend/tensorflow_backend.py:207: The name tf.global_variables is deprecated. Please use tf.compat.v1.global_variables instead.\n",
            "\n",
            "WARNING:tensorflow:From /usr/local/lib/python3.6/dist-packages/keras/backend/tensorflow_backend.py:216: The name tf.is_variable_initialized is deprecated. Please use tf.compat.v1.is_variable_initialized instead.\n",
            "\n",
            "WARNING:tensorflow:From /usr/local/lib/python3.6/dist-packages/keras/backend/tensorflow_backend.py:223: The name tf.variables_initializer is deprecated. Please use tf.compat.v1.variables_initializer instead.\n",
            "\n",
            "7352/7352 [==============================] - 35s 5ms/step - loss: 1.3084 - acc: 0.4425 - val_loss: 1.1184 - val_acc: 0.4822\n",
            "Epoch 2/30\n",
            "7352/7352 [==============================] - 34s 5ms/step - loss: 0.9628 - acc: 0.5876 - val_loss: 0.9257 - val_acc: 0.5606\n",
            "Epoch 3/30\n",
            "7352/7352 [==============================] - 35s 5ms/step - loss: 0.7721 - acc: 0.6538 - val_loss: 0.7807 - val_acc: 0.6142\n",
            "Epoch 4/30\n",
            "7352/7352 [==============================] - 35s 5ms/step - loss: 0.6918 - acc: 0.6669 - val_loss: 0.7274 - val_acc: 0.6121\n",
            "Epoch 5/30\n",
            "7352/7352 [==============================] - 34s 5ms/step - loss: 0.6357 - acc: 0.6938 - val_loss: 0.6743 - val_acc: 0.6518\n",
            "Epoch 6/30\n",
            "7352/7352 [==============================] - 34s 5ms/step - loss: 0.5906 - acc: 0.7067 - val_loss: 0.7713 - val_acc: 0.6773\n",
            "Epoch 7/30\n",
            "7352/7352 [==============================] - 35s 5ms/step - loss: 0.5678 - acc: 0.7552 - val_loss: 0.6994 - val_acc: 0.7343\n",
            "Epoch 8/30\n",
            "7352/7352 [==============================] - 35s 5ms/step - loss: 0.5142 - acc: 0.7825 - val_loss: 0.5573 - val_acc: 0.7384\n",
            "Epoch 9/30\n",
            "7352/7352 [==============================] - 34s 5ms/step - loss: 0.4729 - acc: 0.7856 - val_loss: 0.5099 - val_acc: 0.7357\n",
            "Epoch 10/30\n",
            "7352/7352 [==============================] - 35s 5ms/step - loss: 0.4340 - acc: 0.8028 - val_loss: 0.4786 - val_acc: 0.7574\n",
            "Epoch 11/30\n",
            "7352/7352 [==============================] - 35s 5ms/step - loss: 0.4110 - acc: 0.8146 - val_loss: 0.4736 - val_acc: 0.7703\n",
            "Epoch 12/30\n",
            "7352/7352 [==============================] - 36s 5ms/step - loss: 0.3979 - acc: 0.8467 - val_loss: 0.5004 - val_acc: 0.8565\n",
            "Epoch 13/30\n",
            "7352/7352 [==============================] - 36s 5ms/step - loss: 0.3420 - acc: 0.9011 - val_loss: 0.4215 - val_acc: 0.8802\n",
            "Epoch 14/30\n",
            "7352/7352 [==============================] - 37s 5ms/step - loss: 0.2987 - acc: 0.9151 - val_loss: 0.3543 - val_acc: 0.8996\n",
            "Epoch 15/30\n",
            "7352/7352 [==============================] - 36s 5ms/step - loss: 0.2498 - acc: 0.9268 - val_loss: 0.3538 - val_acc: 0.8846\n",
            "Epoch 16/30\n",
            "7352/7352 [==============================] - 35s 5ms/step - loss: 0.3114 - acc: 0.9170 - val_loss: 0.5143 - val_acc: 0.8789\n",
            "Epoch 17/30\n",
            "7352/7352 [==============================] - 35s 5ms/step - loss: 0.2965 - acc: 0.9135 - val_loss: 0.3515 - val_acc: 0.8829\n",
            "Epoch 18/30\n",
            "7352/7352 [==============================] - 36s 5ms/step - loss: 0.2385 - acc: 0.9320 - val_loss: 0.3438 - val_acc: 0.8894\n",
            "Epoch 19/30\n",
            "7352/7352 [==============================] - 35s 5ms/step - loss: 0.2526 - acc: 0.9241 - val_loss: 0.8278 - val_acc: 0.8161\n",
            "Epoch 20/30\n",
            "7352/7352 [==============================] - 34s 5ms/step - loss: 0.2222 - acc: 0.9334 - val_loss: 0.3056 - val_acc: 0.9043\n",
            "Epoch 21/30\n",
            "7352/7352 [==============================] - 35s 5ms/step - loss: 0.2048 - acc: 0.9387 - val_loss: 0.2909 - val_acc: 0.9040\n",
            "Epoch 22/30\n",
            "7352/7352 [==============================] - 36s 5ms/step - loss: 0.2315 - acc: 0.9321 - val_loss: 0.3936 - val_acc: 0.9002\n",
            "Epoch 23/30\n",
            "7352/7352 [==============================] - 34s 5ms/step - loss: 0.2376 - acc: 0.9242 - val_loss: 0.5361 - val_acc: 0.8829\n",
            "Epoch 24/30\n",
            "7352/7352 [==============================] - 35s 5ms/step - loss: 0.1921 - acc: 0.9372 - val_loss: 0.3822 - val_acc: 0.9091\n",
            "Epoch 25/30\n",
            "7352/7352 [==============================] - 35s 5ms/step - loss: 0.1867 - acc: 0.9419 - val_loss: 0.3349 - val_acc: 0.9101\n",
            "Epoch 26/30\n",
            "7352/7352 [==============================] - 34s 5ms/step - loss: 0.1973 - acc: 0.9422 - val_loss: 0.3576 - val_acc: 0.8972\n",
            "Epoch 27/30\n",
            "7352/7352 [==============================] - 34s 5ms/step - loss: 0.1676 - acc: 0.9470 - val_loss: 0.3528 - val_acc: 0.9101\n",
            "Epoch 28/30\n",
            "7352/7352 [==============================] - 35s 5ms/step - loss: 0.1757 - acc: 0.9391 - val_loss: 0.3455 - val_acc: 0.9169\n",
            "Epoch 29/30\n",
            "7352/7352 [==============================] - 34s 5ms/step - loss: 0.1689 - acc: 0.9434 - val_loss: 0.3733 - val_acc: 0.9040\n",
            "Epoch 30/30\n",
            "7352/7352 [==============================] - 34s 5ms/step - loss: 0.1523 - acc: 0.9471 - val_loss: 0.3679 - val_acc: 0.9057\n"
          ],
          "name": "stdout"
        },
        {
          "output_type": "execute_result",
          "data": {
            "text/plain": [
              "<keras.callbacks.History at 0x7fe676d0f438>"
            ]
          },
          "metadata": {
            "tags": []
          },
          "execution_count": 211
        }
      ]
    },
    {
      "cell_type": "code",
      "metadata": {
        "id": "aA_4v-TeCZYV",
        "colab_type": "code",
        "outputId": "f480bd70-1424-49d4-ef17-b47e02220496",
        "colab": {
          "base_uri": "https://localhost:8080/",
          "height": 187
        }
      },
      "source": [
        "# Confusion Matrix\n",
        "print(confusion_matrix(Y_test, model.predict(X_test)))"
      ],
      "execution_count": 0,
      "outputs": [
        {
          "output_type": "stream",
          "text": [
            "Pred                LAYING  SITTING  ...  WALKING_DOWNSTAIRS  WALKING_UPSTAIRS\n",
            "True                                 ...                                      \n",
            "LAYING                 510        0  ...                   0                 0\n",
            "SITTING                  3      384  ...                   0                 0\n",
            "STANDING                 0       86  ...                   0                 0\n",
            "WALKING                  2        0  ...                  25                 6\n",
            "WALKING_DOWNSTAIRS       0        0  ...                 409                10\n",
            "WALKING_UPSTAIRS         2        1  ...                   0               461\n",
            "\n",
            "[6 rows x 6 columns]\n"
          ],
          "name": "stdout"
        }
      ]
    },
    {
      "cell_type": "code",
      "metadata": {
        "id": "Gi5fXJB6CZYb",
        "colab_type": "code",
        "outputId": "caf62e04-b974-49ba-8f3d-59977fac7214",
        "colab": {
          "base_uri": "https://localhost:8080/",
          "height": 34
        }
      },
      "source": [
        "score = model.evaluate(X_test, Y_test)"
      ],
      "execution_count": 0,
      "outputs": [
        {
          "output_type": "stream",
          "text": [
            "2947/2947 [==============================] - 1s 366us/step\n"
          ],
          "name": "stdout"
        }
      ]
    },
    {
      "cell_type": "code",
      "metadata": {
        "id": "RBd081O5CZYh",
        "colab_type": "code",
        "outputId": "821e6374-1489-4258-d11a-2d819f220f35",
        "colab": {
          "base_uri": "https://localhost:8080/",
          "height": 34
        }
      },
      "source": [
        "score"
      ],
      "execution_count": 0,
      "outputs": [
        {
          "output_type": "execute_result",
          "data": {
            "text/plain": [
              "[0.3678714334553279, 0.9056667797760435]"
            ]
          },
          "metadata": {
            "tags": []
          },
          "execution_count": 214
        }
      ]
    },
    {
      "cell_type": "markdown",
      "metadata": {
        "id": "fj2RpBAphfQ2",
        "colab_type": "text"
      },
      "source": [
        "<h3> Hyperparameter Tuning </h3>"
      ]
    },
    {
      "cell_type": "markdown",
      "metadata": {
        "id": "3DNRFMFWzEZZ",
        "colab_type": "text"
      },
      "source": [
        "https://machinelearningmastery.com/grid-search-hyperparameters-deep-learning-models-python-keras/"
      ]
    },
    {
      "cell_type": "code",
      "metadata": {
        "id": "glxHgRyEy90a",
        "colab_type": "code",
        "colab": {}
      },
      "source": [
        "import keras\n",
        "from keras.models import Sequential\n",
        "from keras.layers import Dense,Dropout\n",
        "import keras\n",
        "from keras.wrappers.scikit_learn import KerasClassifier\n",
        "from sklearn.model_selection import GridSearchCV"
      ],
      "execution_count": 0,
      "outputs": []
    },
    {
      "cell_type": "code",
      "metadata": {
        "id": "PdnXVLL69omk",
        "colab_type": "code",
        "colab": {}
      },
      "source": [
        "def create_model(dropout_rate=0.0,n_hidden=1):\n",
        "    model = Sequential()\n",
        "    model.add(LSTM(n_hidden, input_shape=(timesteps, input_dim)))\n",
        "    model.add(Dropout(dropout_rate))\n",
        "    model.add(Dense(n_classes, activation='softmax'))\n",
        "    model.compile(loss='binary_crossentropy', optimizer='rmsprop', metrics=['accuracy'])\n",
        "    return model"
      ],
      "execution_count": 0,
      "outputs": []
    },
    {
      "cell_type": "code",
      "metadata": {
        "id": "FE7FUFrH8VDj",
        "colab_type": "code",
        "outputId": "dc7b806f-6a0e-42bd-b171-a9d6dc5157b5",
        "colab": {
          "base_uri": "https://localhost:8080/",
          "height": 445
        }
      },
      "source": [
        "# define the grid search parameters\n",
        "model = KerasClassifier(build_fn=create_model)\n",
        "n_hidden = [20, 25, 30, 35, 40, 45, 50]\n",
        "dropout_rate = [0.4, 0.5, 0.6, 0.7, 0.8, 0.9]\n",
        "param_grid = dict(dropout_rate=dropout_rate, n_hidden=n_hidden)\n",
        "grid = GridSearchCV(estimator=model, param_grid=param_grid, n_jobs=-1, cv=3)\n",
        "grid_result = grid.fit(X_train, Y_train)\n",
        "# summarize results\n",
        "print(\"Best: %f using %s\" % (grid_result.best_score_, grid_result.best_params_))\n",
        "means = grid_result.cv_results_['mean_test_score']\n",
        "stds = grid_result.cv_results_['std_test_score']\n",
        "params = grid_result.cv_results_['params']"
      ],
      "execution_count": 0,
      "outputs": [
        {
          "output_type": "stream",
          "text": [
            "/usr/local/lib/python3.6/dist-packages/joblib/externals/loky/process_executor.py:706: UserWarning: A worker stopped while some jobs were given to the executor. This can be caused by a too short worker timeout or by a memory leak.\n",
            "  \"timeout or by a memory leak.\", UserWarning\n"
          ],
          "name": "stderr"
        },
        {
          "output_type": "stream",
          "text": [
            "WARNING:tensorflow:From /usr/local/lib/python3.6/dist-packages/keras/optimizers.py:793: The name tf.train.Optimizer is deprecated. Please use tf.compat.v1.train.Optimizer instead.\n",
            "\n",
            "WARNING:tensorflow:From /usr/local/lib/python3.6/dist-packages/keras/backend/tensorflow_backend.py:3657: The name tf.log is deprecated. Please use tf.math.log instead.\n",
            "\n",
            "WARNING:tensorflow:From /usr/local/lib/python3.6/dist-packages/tensorflow_core/python/ops/nn_impl.py:183: where (from tensorflow.python.ops.array_ops) is deprecated and will be removed in a future version.\n",
            "Instructions for updating:\n",
            "Use tf.where in 2.0, which has the same broadcast rule as np.where\n",
            "WARNING:tensorflow:From /usr/local/lib/python3.6/dist-packages/keras/backend/tensorflow_backend.py:1033: The name tf.assign_add is deprecated. Please use tf.compat.v1.assign_add instead.\n",
            "\n",
            "WARNING:tensorflow:From /usr/local/lib/python3.6/dist-packages/keras/backend/tensorflow_backend.py:1020: The name tf.assign is deprecated. Please use tf.compat.v1.assign instead.\n",
            "\n",
            "Epoch 1/1\n",
            "WARNING:tensorflow:From /usr/local/lib/python3.6/dist-packages/keras/backend/tensorflow_backend.py:190: The name tf.get_default_session is deprecated. Please use tf.compat.v1.get_default_session instead.\n",
            "\n",
            "WARNING:tensorflow:From /usr/local/lib/python3.6/dist-packages/keras/backend/tensorflow_backend.py:207: The name tf.global_variables is deprecated. Please use tf.compat.v1.global_variables instead.\n",
            "\n",
            "WARNING:tensorflow:From /usr/local/lib/python3.6/dist-packages/keras/backend/tensorflow_backend.py:216: The name tf.is_variable_initialized is deprecated. Please use tf.compat.v1.is_variable_initialized instead.\n",
            "\n",
            "WARNING:tensorflow:From /usr/local/lib/python3.6/dist-packages/keras/backend/tensorflow_backend.py:223: The name tf.variables_initializer is deprecated. Please use tf.compat.v1.variables_initializer instead.\n",
            "\n",
            "7352/7352 [==============================] - 16s 2ms/step - loss: 0.3306 - acc: 0.8700\n",
            "Best: 0.881619 using {'dropout_rate': 0.5, 'n_hidden': 40}\n"
          ],
          "name": "stdout"
        }
      ]
    },
    {
      "cell_type": "code",
      "metadata": {
        "id": "L5SsCEgYSOKo",
        "colab_type": "code",
        "outputId": "580ea8a1-e6bd-4a5e-bca4-b09a9192a74c",
        "colab": {
          "base_uri": "https://localhost:8080/",
          "height": 68
        }
      },
      "source": [
        "#https://scikit-learn.org/stable/modules/generated/sklearn.model_selection.GridSearchCV.html\n",
        "a=grid_result.best_params_['dropout_rate']\n",
        "p = grid_result.best_params_['n_hidden']\n",
        "print(grid_result.best_score_)\n",
        "print(a)\n",
        "print(p)"
      ],
      "execution_count": 0,
      "outputs": [
        {
          "output_type": "stream",
          "text": [
            "0.8816190913489047\n",
            "0.5\n",
            "40\n"
          ],
          "name": "stdout"
        }
      ]
    },
    {
      "cell_type": "code",
      "metadata": {
        "id": "oH_nZOy-SPez",
        "colab_type": "code",
        "colab": {}
      },
      "source": [
        "model = Sequential()\n",
        "model.add(LSTM(units=p, input_shape=(timesteps, input_dim)))\n",
        "model.add(Dropout(rate=a))\n",
        "model.add(Dense(n_classes, activation='softmax'))\n",
        "model.compile(loss='categorical_crossentropy', optimizer='rmsprop', metrics=['accuracy'])"
      ],
      "execution_count": 0,
      "outputs": []
    },
    {
      "cell_type": "code",
      "metadata": {
        "id": "_4DRTm9XKsZ5",
        "colab_type": "code",
        "outputId": "1917c7a3-8fd4-448a-a4df-144bce264c33",
        "colab": {
          "base_uri": "https://localhost:8080/",
          "height": 1000
        }
      },
      "source": [
        "# Training the model\n",
        "history=model.fit(X_train,\n",
        "          Y_train,\n",
        "          batch_size=batch_size,\n",
        "          validation_data=(X_test, Y_test),\n",
        "          epochs=30)\n",
        "score = model.evaluate(X_test, Y_test, verbose=0)\n",
        "print('Test loss:', score[0])\n",
        "print('Test accuracy:', score[1])"
      ],
      "execution_count": 0,
      "outputs": [
        {
          "output_type": "stream",
          "text": [
            "Train on 7352 samples, validate on 2947 samples\n",
            "Epoch 1/30\n",
            "7352/7352 [==============================] - 30s 4ms/step - loss: 0.1733 - acc: 0.9412 - val_loss: 0.4180 - val_acc: 0.9002\n",
            "Epoch 2/30\n",
            "7352/7352 [==============================] - 30s 4ms/step - loss: 0.1816 - acc: 0.9395 - val_loss: 0.3613 - val_acc: 0.9006\n",
            "Epoch 3/30\n",
            "7352/7352 [==============================] - 31s 4ms/step - loss: 0.1699 - acc: 0.9471 - val_loss: 0.3931 - val_acc: 0.9043\n",
            "Epoch 4/30\n",
            "7352/7352 [==============================] - 31s 4ms/step - loss: 0.1559 - acc: 0.9455 - val_loss: 0.7451 - val_acc: 0.8758\n",
            "Epoch 5/30\n",
            "7352/7352 [==============================] - 31s 4ms/step - loss: 0.1687 - acc: 0.9418 - val_loss: 0.4324 - val_acc: 0.9036\n",
            "Epoch 6/30\n",
            "7352/7352 [==============================] - 31s 4ms/step - loss: 0.1613 - acc: 0.9453 - val_loss: 0.3779 - val_acc: 0.9101\n",
            "Epoch 7/30\n",
            "7352/7352 [==============================] - 31s 4ms/step - loss: 0.1483 - acc: 0.9474 - val_loss: 0.5106 - val_acc: 0.8873\n",
            "Epoch 8/30\n",
            "7352/7352 [==============================] - 30s 4ms/step - loss: 0.1594 - acc: 0.9448 - val_loss: 0.4125 - val_acc: 0.9043\n",
            "Epoch 9/30\n",
            "7352/7352 [==============================] - 31s 4ms/step - loss: 0.1817 - acc: 0.9433 - val_loss: 0.4048 - val_acc: 0.9046\n",
            "Epoch 10/30\n",
            "7352/7352 [==============================] - 30s 4ms/step - loss: 0.1716 - acc: 0.9470 - val_loss: 0.3828 - val_acc: 0.9063\n",
            "Epoch 11/30\n",
            "7352/7352 [==============================] - 30s 4ms/step - loss: 0.1531 - acc: 0.9497 - val_loss: 0.5498 - val_acc: 0.8965\n",
            "Epoch 12/30\n",
            "7352/7352 [==============================] - 30s 4ms/step - loss: 0.1638 - acc: 0.9433 - val_loss: 0.3168 - val_acc: 0.9063\n",
            "Epoch 13/30\n",
            "7352/7352 [==============================] - 30s 4ms/step - loss: 0.1489 - acc: 0.9472 - val_loss: 0.2917 - val_acc: 0.9155\n",
            "Epoch 14/30\n",
            "7352/7352 [==============================] - 31s 4ms/step - loss: 0.1525 - acc: 0.9463 - val_loss: 0.3777 - val_acc: 0.9077\n",
            "Epoch 15/30\n",
            "7352/7352 [==============================] - 30s 4ms/step - loss: 0.1386 - acc: 0.9501 - val_loss: 0.2968 - val_acc: 0.9179\n",
            "Epoch 16/30\n",
            "7352/7352 [==============================] - 30s 4ms/step - loss: 0.1633 - acc: 0.9487 - val_loss: 0.5005 - val_acc: 0.9046\n",
            "Epoch 17/30\n",
            "7352/7352 [==============================] - 30s 4ms/step - loss: 0.1438 - acc: 0.9512 - val_loss: 0.3752 - val_acc: 0.9080\n",
            "Epoch 18/30\n",
            "7352/7352 [==============================] - 30s 4ms/step - loss: 0.1415 - acc: 0.9493 - val_loss: 0.3397 - val_acc: 0.9118\n",
            "Epoch 19/30\n",
            "7352/7352 [==============================] - 30s 4ms/step - loss: 0.1528 - acc: 0.9449 - val_loss: 0.3952 - val_acc: 0.9148\n",
            "Epoch 20/30\n",
            "7352/7352 [==============================] - 30s 4ms/step - loss: 0.1409 - acc: 0.9499 - val_loss: 0.4032 - val_acc: 0.9033\n",
            "Epoch 21/30\n",
            "7352/7352 [==============================] - 30s 4ms/step - loss: 0.1500 - acc: 0.9457 - val_loss: 0.3943 - val_acc: 0.9128\n",
            "Epoch 22/30\n",
            "7352/7352 [==============================] - 30s 4ms/step - loss: 0.1304 - acc: 0.9520 - val_loss: 0.3650 - val_acc: 0.9060\n",
            "Epoch 23/30\n",
            "7352/7352 [==============================] - 31s 4ms/step - loss: 0.1500 - acc: 0.9467 - val_loss: 0.3036 - val_acc: 0.9264\n",
            "Epoch 24/30\n",
            "7352/7352 [==============================] - 30s 4ms/step - loss: 0.1372 - acc: 0.9538 - val_loss: 0.3946 - val_acc: 0.9145\n",
            "Epoch 25/30\n",
            "7352/7352 [==============================] - 30s 4ms/step - loss: 0.1755 - acc: 0.9472 - val_loss: 0.3746 - val_acc: 0.8999\n",
            "Epoch 26/30\n",
            "7352/7352 [==============================] - 31s 4ms/step - loss: 0.1383 - acc: 0.9523 - val_loss: 0.3674 - val_acc: 0.9118\n",
            "Epoch 27/30\n",
            "7352/7352 [==============================] - 30s 4ms/step - loss: 0.1258 - acc: 0.9508 - val_loss: 0.3751 - val_acc: 0.9169\n",
            "Epoch 28/30\n",
            "7352/7352 [==============================] - 30s 4ms/step - loss: 0.1624 - acc: 0.9494 - val_loss: 0.3478 - val_acc: 0.9226\n",
            "Epoch 29/30\n",
            "7352/7352 [==============================] - 31s 4ms/step - loss: 0.1531 - acc: 0.9510 - val_loss: 0.2976 - val_acc: 0.9172\n",
            "Epoch 30/30\n",
            "7352/7352 [==============================] - 31s 4ms/step - loss: 0.1635 - acc: 0.9471 - val_loss: 0.2815 - val_acc: 0.9281\n",
            "Test loss: 0.281517137235211\n",
            "Test accuracy: 0.9280624363759755\n"
          ],
          "name": "stdout"
        }
      ]
    },
    {
      "cell_type": "code",
      "metadata": {
        "id": "5BxcmA7achEW",
        "colab_type": "code",
        "outputId": "4d1a7763-8ecd-49ea-e92f-7df26028a9c6",
        "colab": {
          "base_uri": "https://localhost:8080/",
          "height": 313
        }
      },
      "source": [
        "import matplotlib.pyplot as plt\n",
        "score = model.evaluate(X_test, Y_test, verbose=0) \n",
        "print('Test score:', score[0]) \n",
        "print('Test accuracy:', score[1])\n",
        "\n",
        "fig,ax = plt.subplots(1,1)\n",
        "ax.set_xlabel('Epoch') ; ax.set_ylabel('Categorical Crossentropy Loss')\n",
        "x = list(range(1,epochs+1)) #List of epoch numbers\n",
        "val_loss = history.history['val_loss'] #Validation Loss\n",
        "loss = history.history['loss'] #Training Loss\n",
        "plt_dynamic(x, val_loss, loss, ax) #Display the model"
      ],
      "execution_count": 0,
      "outputs": [
        {
          "output_type": "stream",
          "text": [
            "Test score: 0.281517137235211\n",
            "Test accuracy: 0.9280624363759755\n"
          ],
          "name": "stdout"
        },
        {
          "output_type": "display_data",
          "data": {
            "image/png": "[encoded data removed]",
            "text/plain": [
              "<Figure size 432x288 with 1 Axes>"
            ]
          },
          "metadata": {
            "tags": []
          }
        }
      ]
    },
    {
      "cell_type": "code",
      "metadata": {
        "id": "sQJS0RU9hNwj",
        "colab_type": "code",
        "outputId": "2a16004d-f64c-49cf-8888-c2d09c158400",
        "colab": {
          "base_uri": "https://localhost:8080/",
          "height": 187
        }
      },
      "source": [
        "# Confusion Matrix\n",
        "print(confusion_matrix(Y_test, model.predict(X_test)))"
      ],
      "execution_count": 0,
      "outputs": [
        {
          "output_type": "stream",
          "text": [
            "Pred                LAYING  SITTING  ...  WALKING_DOWNSTAIRS  WALKING_UPSTAIRS\n",
            "True                                 ...                                      \n",
            "LAYING                 511        0  ...                   0                 0\n",
            "SITTING                  0      367  ...                   2                 1\n",
            "STANDING                 0       45  ...                   0                 1\n",
            "WALKING                  0        0  ...                  13                 7\n",
            "WALKING_DOWNSTAIRS       0        0  ...                 412                 5\n",
            "WALKING_UPSTAIRS         2        3  ...                   9               420\n",
            "\n",
            "[6 rows x 6 columns]\n"
          ],
          "name": "stdout"
        }
      ]
    },
    {
      "cell_type": "markdown",
      "metadata": {
        "id": "z69EtgKK-qrf",
        "colab_type": "text"
      },
      "source": [
        "From Hyperparameter Tuning, we got our desired result as accuracy is 93%"
      ]
    },
    {
      "cell_type": "markdown",
      "metadata": {
        "id": "Dx97OaUeFuaG",
        "colab_type": "text"
      },
      "source": [
        "<h3> 2 LSTM Layers having 32 LSTM units + Dropout (0.8) <h3>"
      ]
    },
    {
      "cell_type": "code",
      "metadata": {
        "id": "Ug46oIlVFszE",
        "colab_type": "code",
        "colab": {}
      },
      "source": [
        "# Initializing parameters\n",
        "epochs = 30\n",
        "batch_size = 32\n",
        "n_hidden = n_hidden"
      ],
      "execution_count": 0,
      "outputs": []
    },
    {
      "cell_type": "code",
      "metadata": {
        "id": "iSi5XrKtFtP1",
        "colab_type": "code",
        "outputId": "2f8a4e91-8e71-47a7-a6d4-988e3a0134f1",
        "colab": {
          "base_uri": "https://localhost:8080/",
          "height": 391
        }
      },
      "source": [
        "# Initiliazing the sequential model\n",
        "model = Sequential()\n",
        "\n",
        "#https://adventuresinmachinelearning.com/keras-lstm-tutorial/\n",
        "#Multilayer LSTM \n",
        "\n",
        "model.add(LSTM(32, return_sequences=True,input_shape=(timesteps, input_dim)))\n",
        "model.add(Dropout(0.8))\n",
        "model.add(LSTM(32,input_shape=(timesteps, 32)))\n",
        "model.add(BatchNormalization())\n",
        "model.add(Dropout(0.8))\n",
        "model.add(Dense(n_classes, activation='sigmoid'))\n",
        "model.summary()"
      ],
      "execution_count": 0,
      "outputs": [
        {
          "output_type": "stream",
          "text": [
            "WARNING:tensorflow:Large dropout rate: 0.8 (>0.5). In TensorFlow 2.x, dropout() uses dropout rate instead of keep_prob. Please ensure that this is intended.\n",
            "WARNING:tensorflow:Large dropout rate: 0.8 (>0.5). In TensorFlow 2.x, dropout() uses dropout rate instead of keep_prob. Please ensure that this is intended.\n",
            "Model: \"sequential_13\"\n",
            "_________________________________________________________________\n",
            "Layer (type)                 Output Shape              Param #   \n",
            "=================================================================\n",
            "lstm_24 (LSTM)               (None, 128, 32)           5376      \n",
            "_________________________________________________________________\n",
            "dropout_15 (Dropout)         (None, 128, 32)           0         \n",
            "_________________________________________________________________\n",
            "lstm_25 (LSTM)               (None, 32)                8320      \n",
            "_________________________________________________________________\n",
            "batch_normalization_4 (Batch (None, 32)                128       \n",
            "_________________________________________________________________\n",
            "dropout_16 (Dropout)         (None, 32)                0         \n",
            "_________________________________________________________________\n",
            "dense_12 (Dense)             (None, 6)                 198       \n",
            "=================================================================\n",
            "Total params: 14,022\n",
            "Trainable params: 13,958\n",
            "Non-trainable params: 64\n",
            "_________________________________________________________________\n"
          ],
          "name": "stdout"
        }
      ]
    },
    {
      "cell_type": "code",
      "metadata": {
        "id": "TUi19Yq9FtXr",
        "colab_type": "code",
        "colab": {}
      },
      "source": [
        "# Compiling the model\n",
        "model.compile(loss='categorical_crossentropy',\n",
        "              optimizer='rmsprop',\n",
        "              metrics=['accuracy'])"
      ],
      "execution_count": 0,
      "outputs": []
    },
    {
      "cell_type": "code",
      "metadata": {
        "id": "941Pz9q1Ftgf",
        "colab_type": "code",
        "outputId": "2b71e7d8-6561-4985-aa32-7ea781a453f0",
        "colab": {
          "base_uri": "https://localhost:8080/",
          "height": 1000
        }
      },
      "source": [
        "# Training the model\n",
        "history=model.fit(X_train,\n",
        "          Y_train,\n",
        "          batch_size=batch_size,\n",
        "          validation_data=(X_test, Y_test),\n",
        "          epochs=epochs)\n",
        "score = model.evaluate(X_test, Y_test, verbose=0)\n",
        "print('Test loss:', score[0])\n",
        "print('Test accuracy:', score[1])"
      ],
      "execution_count": 0,
      "outputs": [
        {
          "output_type": "stream",
          "text": [
            "Train on 7352 samples, validate on 2947 samples\n",
            "Epoch 1/30\n",
            "7352/7352 [==============================] - 37s 5ms/step - loss: 1.4897 - acc: 0.4070 - val_loss: 1.0906 - val_acc: 0.5083\n",
            "Epoch 2/30\n",
            "7352/7352 [==============================] - 32s 4ms/step - loss: 1.1085 - acc: 0.5170 - val_loss: 0.8929 - val_acc: 0.4968\n",
            "Epoch 3/30\n",
            "7352/7352 [==============================] - 32s 4ms/step - loss: 0.9380 - acc: 0.5239 - val_loss: 0.8232 - val_acc: 0.4910\n",
            "Epoch 4/30\n",
            "7352/7352 [==============================] - 32s 4ms/step - loss: 0.8682 - acc: 0.5229 - val_loss: 0.8501 - val_acc: 0.5046\n",
            "Epoch 5/30\n",
            "7352/7352 [==============================] - 31s 4ms/step - loss: 0.8571 - acc: 0.5231 - val_loss: 0.7841 - val_acc: 0.5148\n",
            "Epoch 6/30\n",
            "7352/7352 [==============================] - 32s 4ms/step - loss: 0.8264 - acc: 0.5209 - val_loss: 0.8508 - val_acc: 0.5053\n",
            "Epoch 7/30\n",
            "7352/7352 [==============================] - 31s 4ms/step - loss: 0.8265 - acc: 0.5299 - val_loss: 0.8444 - val_acc: 0.5073\n",
            "Epoch 8/30\n",
            "7352/7352 [==============================] - 31s 4ms/step - loss: 0.8062 - acc: 0.5331 - val_loss: 0.7888 - val_acc: 0.5148\n",
            "Epoch 9/30\n",
            "7352/7352 [==============================] - 31s 4ms/step - loss: 0.8038 - acc: 0.5329 - val_loss: 0.7887 - val_acc: 0.5209\n",
            "Epoch 10/30\n",
            "7352/7352 [==============================] - 32s 4ms/step - loss: 0.7969 - acc: 0.5222 - val_loss: 0.8279 - val_acc: 0.5049\n",
            "Epoch 11/30\n",
            "7352/7352 [==============================] - 32s 4ms/step - loss: 0.7927 - acc: 0.5310 - val_loss: 0.8761 - val_acc: 0.5097\n",
            "Epoch 12/30\n",
            "7352/7352 [==============================] - 32s 4ms/step - loss: 0.7814 - acc: 0.5331 - val_loss: 0.8853 - val_acc: 0.5148\n",
            "Epoch 13/30\n",
            "7352/7352 [==============================] - 32s 4ms/step - loss: 0.7799 - acc: 0.5355 - val_loss: 0.9265 - val_acc: 0.5270\n",
            "Epoch 14/30\n",
            "7352/7352 [==============================] - 32s 4ms/step - loss: 0.7847 - acc: 0.5254 - val_loss: 0.7928 - val_acc: 0.5195\n",
            "Epoch 15/30\n",
            "7352/7352 [==============================] - 31s 4ms/step - loss: 0.7927 - acc: 0.5393 - val_loss: 0.8870 - val_acc: 0.4964\n",
            "Epoch 16/30\n",
            "7352/7352 [==============================] - 31s 4ms/step - loss: 0.7890 - acc: 0.5331 - val_loss: 0.8839 - val_acc: 0.5083\n",
            "Epoch 17/30\n",
            "7352/7352 [==============================] - 31s 4ms/step - loss: 0.7783 - acc: 0.5413 - val_loss: 0.9515 - val_acc: 0.5758\n",
            "Epoch 18/30\n",
            "7352/7352 [==============================] - 31s 4ms/step - loss: 0.7922 - acc: 0.5434 - val_loss: 0.8225 - val_acc: 0.5575\n",
            "Epoch 19/30\n",
            "7352/7352 [==============================] - 32s 4ms/step - loss: 0.7821 - acc: 0.5484 - val_loss: 0.9142 - val_acc: 0.5053\n",
            "Epoch 20/30\n",
            "7352/7352 [==============================] - 32s 4ms/step - loss: 0.7759 - acc: 0.5411 - val_loss: 0.7879 - val_acc: 0.5148\n",
            "Epoch 21/30\n",
            "7352/7352 [==============================] - 32s 4ms/step - loss: 0.7738 - acc: 0.5388 - val_loss: 0.7800 - val_acc: 0.5148\n",
            "Epoch 22/30\n",
            "7352/7352 [==============================] - 31s 4ms/step - loss: 0.7857 - acc: 0.5435 - val_loss: 0.8956 - val_acc: 0.5042\n",
            "Epoch 23/30\n",
            "7352/7352 [==============================] - 31s 4ms/step - loss: 0.7835 - acc: 0.5369 - val_loss: 0.7971 - val_acc: 0.5080\n",
            "Epoch 24/30\n",
            "7352/7352 [==============================] - 31s 4ms/step - loss: 0.7829 - acc: 0.5457 - val_loss: 0.7905 - val_acc: 0.5154\n",
            "Epoch 25/30\n",
            "7352/7352 [==============================] - 31s 4ms/step - loss: 0.7803 - acc: 0.5378 - val_loss: 0.8119 - val_acc: 0.5141\n",
            "Epoch 26/30\n",
            "7352/7352 [==============================] - 31s 4ms/step - loss: 0.7801 - acc: 0.5419 - val_loss: 0.7910 - val_acc: 0.5151\n",
            "Epoch 27/30\n",
            "7352/7352 [==============================] - 31s 4ms/step - loss: 0.7971 - acc: 0.5450 - val_loss: 0.8878 - val_acc: 0.5090\n",
            "Epoch 28/30\n",
            "7352/7352 [==============================] - 31s 4ms/step - loss: 0.7906 - acc: 0.5377 - val_loss: 0.8774 - val_acc: 0.5087\n",
            "Epoch 29/30\n",
            "7352/7352 [==============================] - 31s 4ms/step - loss: 0.7693 - acc: 0.5416 - val_loss: 0.9869 - val_acc: 0.5046\n",
            "Epoch 30/30\n",
            "7352/7352 [==============================] - 32s 4ms/step - loss: nan - acc: 0.5253 - val_loss: nan - val_acc: 0.1683\n",
            "Test loss: nan\n",
            "Test accuracy: 0.168306752629793\n"
          ],
          "name": "stdout"
        }
      ]
    },
    {
      "cell_type": "code",
      "metadata": {
        "id": "R5kVc9dbFtx6",
        "colab_type": "code",
        "outputId": "3d5bda38-944b-4e0c-a458-07f3eee437d7",
        "colab": {
          "base_uri": "https://localhost:8080/",
          "height": 313
        }
      },
      "source": [
        "import matplotlib.pyplot as plt\n",
        "score = model.evaluate(X_test, Y_test, verbose=0) \n",
        "print('Test score:', score[0]) \n",
        "print('Test accuracy:', score[1])\n",
        "\n",
        "fig,ax = plt.subplots(1,1)\n",
        "ax.set_xlabel('epoch') ; ax.set_ylabel('Categorical Crossentropy Loss')\n",
        "\n",
        "# list of epoch numbers\n",
        "x = list(range(1,epochs+1))\n",
        "\n",
        "vy = history.history['val_loss']\n",
        "ty = history.history['loss']\n",
        "plt_dynamic(x, vy, ty, ax)"
      ],
      "execution_count": 0,
      "outputs": [
        {
          "output_type": "stream",
          "text": [
            "Test score: nan\n",
            "Test accuracy: 0.168306752629793\n"
          ],
          "name": "stdout"
        },
        {
          "output_type": "display_data",
          "data": {
            "image/png": "[encoded data removed]",
            "text/plain": [
              "<Figure size 432x288 with 1 Axes>"
            ]
          },
          "metadata": {
            "tags": []
          }
        }
      ]
    },
    {
      "cell_type": "code",
      "metadata": {
        "id": "lMtn4o21GIR0",
        "colab_type": "code",
        "outputId": "058828e3-2194-4a72-8340-bdad6131aa09",
        "colab": {
          "base_uri": "https://localhost:8080/",
          "height": 153
        }
      },
      "source": [
        "# Confusion Matrix\n",
        "print(confusion_matrix(Y_test, model.predict(X_test)))"
      ],
      "execution_count": 0,
      "outputs": [
        {
          "output_type": "stream",
          "text": [
            "Pred                WALKING\n",
            "True                       \n",
            "LAYING                  537\n",
            "SITTING                 491\n",
            "STANDING                532\n",
            "WALKING                 496\n",
            "WALKING_DOWNSTAIRS      420\n",
            "WALKING_UPSTAIRS        471\n"
          ],
          "name": "stdout"
        }
      ]
    },
    {
      "cell_type": "markdown",
      "metadata": {
        "id": "mJP3GG7-FMsr",
        "colab_type": "text"
      },
      "source": [
        "<h3> 2 LSTM Layers having 32 LSTM units + Dropout (0.7) </h3>"
      ]
    },
    {
      "cell_type": "code",
      "metadata": {
        "id": "t2jzlqriFKcS",
        "colab_type": "code",
        "colab": {}
      },
      "source": [
        "# Initializing parameters\n",
        "epochs = 30\n",
        "batch_size = 32\n",
        "n_hidden = n_hidden"
      ],
      "execution_count": 0,
      "outputs": []
    },
    {
      "cell_type": "code",
      "metadata": {
        "id": "WRjjpjw3FKjE",
        "colab_type": "code",
        "outputId": "91e3e0cd-f841-40f4-c9ca-b681d3301242",
        "colab": {
          "base_uri": "https://localhost:8080/",
          "height": 357
        }
      },
      "source": [
        "# Initiliazing the sequential model\n",
        "model = Sequential()\n",
        "\n",
        "#https://adventuresinmachinelearning.com/keras-lstm-tutorial/\n",
        "#Multilayer LSTM \n",
        "\n",
        "model.add(LSTM(32, return_sequences=True,input_shape=(timesteps, input_dim)))\n",
        "model.add(Dropout(0.7))\n",
        "model.add(LSTM(32,input_shape=(timesteps, 32)))\n",
        "model.add(BatchNormalization())\n",
        "model.add(Dropout(0.7))\n",
        "model.add(Dense(n_classes, activation='sigmoid'))\n",
        "model.summary()"
      ],
      "execution_count": 0,
      "outputs": [
        {
          "output_type": "stream",
          "text": [
            "Model: \"sequential_14\"\n",
            "_________________________________________________________________\n",
            "Layer (type)                 Output Shape              Param #   \n",
            "=================================================================\n",
            "lstm_26 (LSTM)               (None, 128, 32)           5376      \n",
            "_________________________________________________________________\n",
            "dropout_17 (Dropout)         (None, 128, 32)           0         \n",
            "_________________________________________________________________\n",
            "lstm_27 (LSTM)               (None, 32)                8320      \n",
            "_________________________________________________________________\n",
            "batch_normalization_5 (Batch (None, 32)                128       \n",
            "_________________________________________________________________\n",
            "dropout_18 (Dropout)         (None, 32)                0         \n",
            "_________________________________________________________________\n",
            "dense_13 (Dense)             (None, 6)                 198       \n",
            "=================================================================\n",
            "Total params: 14,022\n",
            "Trainable params: 13,958\n",
            "Non-trainable params: 64\n",
            "_________________________________________________________________\n"
          ],
          "name": "stdout"
        }
      ]
    },
    {
      "cell_type": "code",
      "metadata": {
        "id": "I2XtXNQOFKov",
        "colab_type": "code",
        "colab": {}
      },
      "source": [
        "# Compiling the model\n",
        "model.compile(loss='categorical_crossentropy',\n",
        "              optimizer='rmsprop',\n",
        "              metrics=['accuracy'])"
      ],
      "execution_count": 0,
      "outputs": []
    },
    {
      "cell_type": "code",
      "metadata": {
        "id": "1PZqzMrzFKtt",
        "colab_type": "code",
        "outputId": "4ba23555-1dc3-4e75-eb01-b7c90916006b",
        "colab": {
          "base_uri": "https://localhost:8080/",
          "height": 1000
        }
      },
      "source": [
        "# Training the model\n",
        "history=model.fit(X_train,\n",
        "          Y_train,\n",
        "          batch_size=batch_size,\n",
        "          validation_data=(X_test, Y_test),\n",
        "          epochs=epochs)\n",
        "score = model.evaluate(X_test, Y_test, verbose=0)\n",
        "print('Test loss:', score[0])\n",
        "print('Test accuracy:', score[1])"
      ],
      "execution_count": 0,
      "outputs": [
        {
          "output_type": "stream",
          "text": [
            "Train on 7352 samples, validate on 2947 samples\n",
            "Epoch 1/30\n",
            "7352/7352 [==============================] - 37s 5ms/step - loss: 1.3051 - acc: 0.4592 - val_loss: 0.9059 - val_acc: 0.5372\n",
            "Epoch 2/30\n",
            "7352/7352 [==============================] - 32s 4ms/step - loss: 0.9109 - acc: 0.5654 - val_loss: 0.8365 - val_acc: 0.5232\n",
            "Epoch 3/30\n",
            "7352/7352 [==============================] - 33s 5ms/step - loss: 0.8262 - acc: 0.5479 - val_loss: 0.7616 - val_acc: 0.5110\n",
            "Epoch 4/30\n",
            "7352/7352 [==============================] - 33s 5ms/step - loss: 0.7878 - acc: 0.5192 - val_loss: 0.7428 - val_acc: 0.5182\n",
            "Epoch 5/30\n",
            "7352/7352 [==============================] - 33s 5ms/step - loss: 0.7610 - acc: 0.5309 - val_loss: 0.7328 - val_acc: 0.5165\n",
            "Epoch 6/30\n",
            "7352/7352 [==============================] - 33s 4ms/step - loss: 0.7503 - acc: 0.5181 - val_loss: 0.7360 - val_acc: 0.5087\n",
            "Epoch 7/30\n",
            "7352/7352 [==============================] - 33s 5ms/step - loss: 0.7408 - acc: 0.5272 - val_loss: 0.7539 - val_acc: 0.5090\n",
            "Epoch 8/30\n",
            "7352/7352 [==============================] - 33s 4ms/step - loss: 0.7232 - acc: 0.5320 - val_loss: 0.8244 - val_acc: 0.5372\n",
            "Epoch 9/30\n",
            "7352/7352 [==============================] - 32s 4ms/step - loss: 0.7647 - acc: 0.5267 - val_loss: 0.7456 - val_acc: 0.5131\n",
            "Epoch 10/30\n",
            "7352/7352 [==============================] - 33s 4ms/step - loss: 0.7241 - acc: 0.5341 - val_loss: 0.7403 - val_acc: 0.5171\n",
            "Epoch 11/30\n",
            "7352/7352 [==============================] - 32s 4ms/step - loss: 0.7225 - acc: 0.5261 - val_loss: 0.8294 - val_acc: 0.5080\n",
            "Epoch 12/30\n",
            "7352/7352 [==============================] - 32s 4ms/step - loss: 0.7156 - acc: 0.5331 - val_loss: 0.7665 - val_acc: 0.5151\n",
            "Epoch 13/30\n",
            "7352/7352 [==============================] - 32s 4ms/step - loss: 0.7205 - acc: 0.5390 - val_loss: 0.8127 - val_acc: 0.5093\n",
            "Epoch 14/30\n",
            "7352/7352 [==============================] - 32s 4ms/step - loss: 0.7147 - acc: 0.5328 - val_loss: 0.7534 - val_acc: 0.5161\n",
            "Epoch 15/30\n",
            "7352/7352 [==============================] - 31s 4ms/step - loss: 0.7139 - acc: 0.5377 - val_loss: 0.8611 - val_acc: 0.5080\n",
            "Epoch 16/30\n",
            "7352/7352 [==============================] - 32s 4ms/step - loss: 0.7034 - acc: 0.5356 - val_loss: 0.8317 - val_acc: 0.5083\n",
            "Epoch 17/30\n",
            "7352/7352 [==============================] - 31s 4ms/step - loss: 0.7072 - acc: 0.5473 - val_loss: 0.8163 - val_acc: 0.5114\n",
            "Epoch 18/30\n",
            "7352/7352 [==============================] - 32s 4ms/step - loss: 0.7089 - acc: 0.5394 - val_loss: 0.8522 - val_acc: 0.5080\n",
            "Epoch 19/30\n",
            "7352/7352 [==============================] - 31s 4ms/step - loss: 0.7175 - acc: 0.5445 - val_loss: 0.8278 - val_acc: 0.5083\n",
            "Epoch 20/30\n",
            "7352/7352 [==============================] - 31s 4ms/step - loss: 0.7059 - acc: 0.5529 - val_loss: 0.8727 - val_acc: 0.5076\n",
            "Epoch 21/30\n",
            "7352/7352 [==============================] - 32s 4ms/step - loss: 0.7131 - acc: 0.5464 - val_loss: 0.8028 - val_acc: 0.5127\n",
            "Epoch 22/30\n",
            "7352/7352 [==============================] - 32s 4ms/step - loss: 0.7093 - acc: 0.5611 - val_loss: 0.7659 - val_acc: 0.5161\n",
            "Epoch 23/30\n",
            "7352/7352 [==============================] - 31s 4ms/step - loss: 0.7023 - acc: 0.5530 - val_loss: 0.7947 - val_acc: 0.5148\n",
            "Epoch 24/30\n",
            "7352/7352 [==============================] - 31s 4ms/step - loss: 0.7004 - acc: 0.5562 - val_loss: 0.8126 - val_acc: 0.5144\n",
            "Epoch 25/30\n",
            "7352/7352 [==============================] - 31s 4ms/step - loss: 0.7148 - acc: 0.5635 - val_loss: 0.7754 - val_acc: 0.5154\n",
            "Epoch 26/30\n",
            "7352/7352 [==============================] - 32s 4ms/step - loss: 0.7358 - acc: 0.5622 - val_loss: 0.7753 - val_acc: 0.5158\n",
            "Epoch 27/30\n",
            "7352/7352 [==============================] - 31s 4ms/step - loss: 0.6950 - acc: 0.5804 - val_loss: 0.7388 - val_acc: 0.5222\n",
            "Epoch 28/30\n",
            "7352/7352 [==============================] - 31s 4ms/step - loss: 0.6997 - acc: 0.5891 - val_loss: 0.7454 - val_acc: 0.5911\n",
            "Epoch 29/30\n",
            "7352/7352 [==============================] - 31s 4ms/step - loss: 0.6678 - acc: 0.6124 - val_loss: 0.6916 - val_acc: 0.6047\n",
            "Epoch 30/30\n",
            "7352/7352 [==============================] - 32s 4ms/step - loss: 0.6484 - acc: 0.6279 - val_loss: 0.6916 - val_acc: 0.6013\n",
            "Test loss: 0.6915614812784582\n",
            "Test accuracy: 0.6012894468951476\n"
          ],
          "name": "stdout"
        }
      ]
    },
    {
      "cell_type": "code",
      "metadata": {
        "id": "WeBR5IweFKx8",
        "colab_type": "code",
        "outputId": "d64f66af-c595-43b5-fa26-028bb0732f28",
        "colab": {
          "base_uri": "https://localhost:8080/",
          "height": 313
        }
      },
      "source": [
        "score = model.evaluate(X_test, Y_test, verbose=0) \n",
        "print('Test score:', score[0]) \n",
        "print('Test accuracy:', score[1])\n",
        "\n",
        "fig,ax = plt.subplots(1,1)\n",
        "ax.set_xlabel('epoch') ; ax.set_ylabel('Categorical Crossentropy Loss')\n",
        "\n",
        "# list of epoch numbers\n",
        "x = list(range(1,epochs+1))\n",
        "\n",
        "# print(history.history.keys())\n",
        "# dict_keys(['val_loss', 'val_acc', 'loss', 'acc'])\n",
        "# history = model_drop.fit(X_train, Y_train, batch_size=batch_size, epochs=nb_epoch, verbose=1, validation_data=(X_test, Y_test))\n",
        "\n",
        "# we will get val_loss and val_acc only when you pass the paramter validation_data\n",
        "# val_loss : validation loss\n",
        "# val_acc : validation accuracy\n",
        "\n",
        "# loss : training loss\n",
        "# acc : train accuracy\n",
        "# for each key in histrory.histrory we will have a list of length equal to number of epochs\n",
        "\n",
        "vy = history.history['val_loss']\n",
        "ty = history.history['loss']\n",
        "plt_dynamic(x, vy, ty, ax)"
      ],
      "execution_count": 0,
      "outputs": [
        {
          "output_type": "stream",
          "text": [
            "Test score: 0.6915614812784582\n",
            "Test accuracy: 0.6012894468951476\n"
          ],
          "name": "stdout"
        },
        {
          "output_type": "display_data",
          "data": {
            "image/png": "[encoded data removed]",
            "text/plain": [
              "<Figure size 432x288 with 1 Axes>"
            ]
          },
          "metadata": {
            "tags": []
          }
        }
      ]
    },
    {
      "cell_type": "code",
      "metadata": {
        "id": "B9ro8hqGFK1T",
        "colab_type": "code",
        "outputId": "ed46f9a9-97b2-4203-fc9d-839089460ec6",
        "colab": {
          "base_uri": "https://localhost:8080/",
          "height": 153
        }
      },
      "source": [
        "# Confusion Matrix\n",
        "print(confusion_matrix(Y_test, model.predict(X_test)))"
      ],
      "execution_count": 0,
      "outputs": [
        {
          "output_type": "stream",
          "text": [
            "Pred                LAYING  SITTING  WALKING  WALKING_UPSTAIRS\n",
            "True                                                          \n",
            "LAYING                 537        0        0                 0\n",
            "SITTING                  7      484        0                 0\n",
            "STANDING                 0      530        0                 2\n",
            "WALKING                  0        0      329               167\n",
            "WALKING_DOWNSTAIRS       0        0      410                10\n",
            "WALKING_UPSTAIRS         0        0       49               422\n"
          ],
          "name": "stdout"
        }
      ]
    },
    {
      "cell_type": "markdown",
      "metadata": {
        "id": "UQ_n--sUCt_n",
        "colab_type": "text"
      },
      "source": [
        "<h3> 2 LSTM Layers having 32 LSTM units + Dropout (0.6) </h3>"
      ]
    },
    {
      "cell_type": "code",
      "metadata": {
        "id": "RHVlY1pz3aZ9",
        "colab_type": "code",
        "colab": {}
      },
      "source": [
        "# Initializing parameters\n",
        "epochs = 30\n",
        "batch_size = 32\n",
        "n_hidden = n_hidden"
      ],
      "execution_count": 0,
      "outputs": []
    },
    {
      "cell_type": "code",
      "metadata": {
        "id": "Q0X8l9wp3an2",
        "colab_type": "code",
        "outputId": "0c7187e1-b786-4f63-a7e9-a00f54a0aaad",
        "colab": {
          "base_uri": "https://localhost:8080/",
          "height": 306
        }
      },
      "source": [
        "# Initiliazing the sequential model\n",
        "model = Sequential()\n",
        "\n",
        "#https://adventuresinmachinelearning.com/keras-lstm-tutorial/\n",
        "#Multilayer LSTM \n",
        "\n",
        "model.add(LSTM(32, return_sequences=True,input_shape=(timesteps, input_dim)))\n",
        "model.add(LSTM(16,input_shape=(timesteps, 32)))\n",
        "model.add(Dropout(0.6))\n",
        "model.add(Dense(n_classes, activation='sigmoid'))\n",
        "model.summary()"
      ],
      "execution_count": 0,
      "outputs": [
        {
          "output_type": "stream",
          "text": [
            "WARNING:tensorflow:Large dropout rate: 0.6 (>0.5). In TensorFlow 2.x, dropout() uses dropout rate instead of keep_prob. Please ensure that this is intended.\n",
            "Model: \"sequential_4\"\n",
            "_________________________________________________________________\n",
            "Layer (type)                 Output Shape              Param #   \n",
            "=================================================================\n",
            "lstm_6 (LSTM)                (None, 128, 32)           5376      \n",
            "_________________________________________________________________\n",
            "lstm_7 (LSTM)                (None, 16)                3136      \n",
            "_________________________________________________________________\n",
            "dropout_4 (Dropout)          (None, 16)                0         \n",
            "_________________________________________________________________\n",
            "dense_4 (Dense)              (None, 6)                 102       \n",
            "=================================================================\n",
            "Total params: 8,614\n",
            "Trainable params: 8,614\n",
            "Non-trainable params: 0\n",
            "_________________________________________________________________\n"
          ],
          "name": "stdout"
        }
      ]
    },
    {
      "cell_type": "code",
      "metadata": {
        "id": "dpitw0A73a0T",
        "colab_type": "code",
        "colab": {}
      },
      "source": [
        "# Compiling the model\n",
        "model.compile(loss='categorical_crossentropy',\n",
        "              optimizer='rmsprop',\n",
        "              metrics=['accuracy'])"
      ],
      "execution_count": 0,
      "outputs": []
    },
    {
      "cell_type": "code",
      "metadata": {
        "id": "ILmz25AA3a3w",
        "colab_type": "code",
        "outputId": "5ba578d0-910b-48b1-a4f5-02afb3fc3a2c",
        "colab": {
          "base_uri": "https://localhost:8080/",
          "height": 408
        }
      },
      "source": [
        "# Training the model\n",
        "history=model.fit(X_train,\n",
        "          Y_train,\n",
        "          batch_size=batch_size,\n",
        "          validation_data=(X_test, Y_test),\n",
        "          epochs=epochs)\n",
        "score = model.evaluate(X_test, Y_test, verbose=0)\n",
        "print('Test loss:', score[0])\n",
        "print('Test accuracy:', score[1])"
      ],
      "execution_count": 0,
      "outputs": [
        {
          "output_type": "stream",
          "text": [
            "Train on 7352 samples, validate on 2947 samples\n",
            "Epoch 1/10\n",
            "7352/7352 [==============================] - 30s 4ms/step - loss: 1.4606 - acc: 0.3541 - val_loss: 1.3909 - val_acc: 0.3804\n",
            "Epoch 2/10\n",
            "7352/7352 [==============================] - 28s 4ms/step - loss: 1.2772 - acc: 0.4445 - val_loss: 1.2393 - val_acc: 0.4761\n",
            "Epoch 3/10\n",
            "7352/7352 [==============================] - 29s 4ms/step - loss: 1.1170 - acc: 0.5462 - val_loss: 1.0281 - val_acc: 0.5758\n",
            "Epoch 4/10\n",
            "7352/7352 [==============================] - 29s 4ms/step - loss: 0.9835 - acc: 0.5845 - val_loss: 0.8755 - val_acc: 0.6098\n",
            "Epoch 5/10\n",
            "7352/7352 [==============================] - 29s 4ms/step - loss: 0.8978 - acc: 0.6122 - val_loss: 0.8016 - val_acc: 0.5982\n",
            "Epoch 6/10\n",
            "7352/7352 [==============================] - 29s 4ms/step - loss: 0.8770 - acc: 0.6058 - val_loss: 0.7879 - val_acc: 0.6115\n",
            "Epoch 7/10\n",
            "7352/7352 [==============================] - 27s 4ms/step - loss: 0.8076 - acc: 0.6306 - val_loss: 0.7607 - val_acc: 0.6132\n",
            "Epoch 8/10\n",
            "7352/7352 [==============================] - 27s 4ms/step - loss: 0.7743 - acc: 0.6310 - val_loss: 0.7619 - val_acc: 0.6149\n",
            "Epoch 9/10\n",
            "7352/7352 [==============================] - 26s 4ms/step - loss: 0.7609 - acc: 0.6450 - val_loss: 0.7560 - val_acc: 0.6220\n",
            "Epoch 10/10\n",
            "7352/7352 [==============================] - 27s 4ms/step - loss: 0.7539 - acc: 0.6507 - val_loss: 0.7826 - val_acc: 0.6223\n",
            "Test loss: 0.7825939169891171\n",
            "Test accuracy: 0.6223277909738717\n"
          ],
          "name": "stdout"
        }
      ]
    },
    {
      "cell_type": "code",
      "metadata": {
        "id": "3YMiMHiD3a95",
        "colab_type": "code",
        "outputId": "e1f79399-09dc-46bd-8e02-772bd1ff1690",
        "colab": {
          "base_uri": "https://localhost:8080/",
          "height": 313
        }
      },
      "source": [
        "score = model.evaluate(X_test, Y_test, verbose=0) \n",
        "print('Test score:', score[0]) \n",
        "print('Test accuracy:', score[1])\n",
        "\n",
        "fig,ax = plt.subplots(1,1)\n",
        "ax.set_xlabel('epoch') ; ax.set_ylabel('Categorical Crossentropy Loss')\n",
        "\n",
        "# list of epoch numbers\n",
        "x = list(range(1,epochs+1))\n",
        "\n",
        "# print(history.history.keys())\n",
        "# dict_keys(['val_loss', 'val_acc', 'loss', 'acc'])\n",
        "# history = model_drop.fit(X_train, Y_train, batch_size=batch_size, epochs=nb_epoch, verbose=1, validation_data=(X_test, Y_test))\n",
        "\n",
        "# we will get val_loss and val_acc only when you pass the paramter validation_data\n",
        "# val_loss : validation loss\n",
        "# val_acc : validation accuracy\n",
        "\n",
        "# loss : training loss\n",
        "# acc : train accuracy\n",
        "# for each key in histrory.histrory we will have a list of length equal to number of epochs\n",
        "\n",
        "vy = history.history['val_loss']\n",
        "ty = history.history['loss']\n",
        "plt_dynamic(x, vy, ty, ax)"
      ],
      "execution_count": 0,
      "outputs": [
        {
          "output_type": "stream",
          "text": [
            "Test score: 0.7825939169891171\n",
            "Test accuracy: 0.6223277909738717\n"
          ],
          "name": "stdout"
        },
        {
          "output_type": "display_data",
          "data": {
            "image/png": "[encoded data removed]",
            "text/plain": [
              "<Figure size 432x288 with 1 Axes>"
            ]
          },
          "metadata": {
            "tags": []
          }
        }
      ]
    },
    {
      "cell_type": "code",
      "metadata": {
        "id": "YD-QvT3z3bHD",
        "colab_type": "code",
        "outputId": "ef5c4c25-63e0-42e3-a115-1ae7f33e225c",
        "colab": {
          "base_uri": "https://localhost:8080/",
          "height": 153
        }
      },
      "source": [
        "# Confusion Matrix\n",
        "print(confusion_matrix(Y_test, model.predict(X_test)))"
      ],
      "execution_count": 0,
      "outputs": [
        {
          "output_type": "stream",
          "text": [
            "Pred                LAYING  SITTING  STANDING  WALKING\n",
            "True                                                  \n",
            "LAYING                 510        0        27        0\n",
            "SITTING                  0      365       116       10\n",
            "STANDING                 0       51       463       18\n",
            "WALKING                  0        0         0      496\n",
            "WALKING_DOWNSTAIRS       0        0         0      420\n",
            "WALKING_UPSTAIRS         0        0         0      471\n"
          ],
          "name": "stdout"
        }
      ]
    },
    {
      "cell_type": "markdown",
      "metadata": {
        "id": "IYj82islDcRD",
        "colab_type": "text"
      },
      "source": [
        "<h3> 2 LSTM Layers having 32 LSTM units + Dropout (0.5) </h3>"
      ]
    },
    {
      "cell_type": "code",
      "metadata": {
        "id": "zdpta7ry3bLe",
        "colab_type": "code",
        "outputId": "f5acaa1d-2b70-484b-dbec-18a66433d9b1",
        "colab": {
          "base_uri": "https://localhost:8080/",
          "height": 357
        }
      },
      "source": [
        "# Initiliazing the sequential model\n",
        "model = Sequential()\n",
        "\n",
        "#https://adventuresinmachinelearning.com/keras-lstm-tutorial/\n",
        "#Multilayer LSTM \n",
        "\n",
        "model.add(LSTM(32,return_sequences=True,input_shape=(timesteps, input_dim)))\n",
        "model.add(Dropout(0.5))\n",
        "model.add(LSTM(32,input_shape=(timesteps, 32)))\n",
        "model.add(BatchNormalization())\n",
        "model.add(Dropout(0.5))\n",
        "model.add(Dense(n_classes, activation='sigmoid'))\n",
        "model.summary()"
      ],
      "execution_count": 0,
      "outputs": [
        {
          "output_type": "stream",
          "text": [
            "Model: \"sequential_15\"\n",
            "_________________________________________________________________\n",
            "Layer (type)                 Output Shape              Param #   \n",
            "=================================================================\n",
            "lstm_28 (LSTM)               (None, 128, 32)           5376      \n",
            "_________________________________________________________________\n",
            "dropout_19 (Dropout)         (None, 128, 32)           0         \n",
            "_________________________________________________________________\n",
            "lstm_29 (LSTM)               (None, 32)                8320      \n",
            "_________________________________________________________________\n",
            "batch_normalization_6 (Batch (None, 32)                128       \n",
            "_________________________________________________________________\n",
            "dropout_20 (Dropout)         (None, 32)                0         \n",
            "_________________________________________________________________\n",
            "dense_14 (Dense)             (None, 6)                 198       \n",
            "=================================================================\n",
            "Total params: 14,022\n",
            "Trainable params: 13,958\n",
            "Non-trainable params: 64\n",
            "_________________________________________________________________\n"
          ],
          "name": "stdout"
        }
      ]
    },
    {
      "cell_type": "code",
      "metadata": {
        "id": "UmeX7AK-Dd0D",
        "colab_type": "code",
        "colab": {}
      },
      "source": [
        "# Compiling the model\n",
        "model.compile(loss='categorical_crossentropy',\n",
        "              optimizer='rmsprop',\n",
        "              metrics=['accuracy'])"
      ],
      "execution_count": 0,
      "outputs": []
    },
    {
      "cell_type": "code",
      "metadata": {
        "id": "DKcDxytGDd8c",
        "colab_type": "code",
        "outputId": "d2137d3b-f7a1-4131-9f9c-13b7a9a4dac9",
        "colab": {
          "base_uri": "https://localhost:8080/",
          "height": 1000
        }
      },
      "source": [
        "# Training the model\n",
        "history=model.fit(X_train,\n",
        "          Y_train,\n",
        "          batch_size=batch_size,\n",
        "          validation_data=(X_test, Y_test),\n",
        "          epochs=epochs)\n",
        "score = model.evaluate(X_test, Y_test, verbose=0)\n",
        "print('Test loss:', score[0])\n",
        "print('Test accuracy:', score[1])"
      ],
      "execution_count": 0,
      "outputs": [
        {
          "output_type": "stream",
          "text": [
            "Train on 7352 samples, validate on 2947 samples\n",
            "Epoch 1/30\n",
            "7352/7352 [==============================] - 38s 5ms/step - loss: 1.1372 - acc: 0.5460 - val_loss: 0.8200 - val_acc: 0.6498\n",
            "Epoch 2/30\n",
            "7352/7352 [==============================] - 32s 4ms/step - loss: 0.7995 - acc: 0.6140 - val_loss: 0.7844 - val_acc: 0.6651\n",
            "Epoch 3/30\n",
            "7352/7352 [==============================] - 32s 4ms/step - loss: 0.7634 - acc: 0.6027 - val_loss: 0.7524 - val_acc: 0.6206\n",
            "Epoch 4/30\n",
            "7352/7352 [==============================] - 31s 4ms/step - loss: 0.7211 - acc: 0.6030 - val_loss: 0.7840 - val_acc: 0.5344\n",
            "Epoch 5/30\n",
            "7352/7352 [==============================] - 31s 4ms/step - loss: 0.7106 - acc: 0.5915 - val_loss: 0.7795 - val_acc: 0.5219\n",
            "Epoch 6/30\n",
            "7352/7352 [==============================] - 32s 4ms/step - loss: 0.7023 - acc: 0.5811 - val_loss: 0.7558 - val_acc: 0.5324\n",
            "Epoch 7/30\n",
            "7352/7352 [==============================] - 32s 4ms/step - loss: 0.6699 - acc: 0.6011 - val_loss: 0.7179 - val_acc: 0.6155\n",
            "Epoch 8/30\n",
            "7352/7352 [==============================] - 32s 4ms/step - loss: 0.6222 - acc: 0.6196 - val_loss: 0.9375 - val_acc: 0.5735\n",
            "Epoch 9/30\n",
            "7352/7352 [==============================] - 32s 4ms/step - loss: 0.5757 - acc: 0.6371 - val_loss: 0.7004 - val_acc: 0.6216\n",
            "Epoch 10/30\n",
            "7352/7352 [==============================] - 31s 4ms/step - loss: 0.5449 - acc: 0.6503 - val_loss: 0.7110 - val_acc: 0.5840\n",
            "Epoch 11/30\n",
            "7352/7352 [==============================] - 32s 4ms/step - loss: 0.5121 - acc: 0.6605 - val_loss: 0.6035 - val_acc: 0.6223\n",
            "Epoch 12/30\n",
            "7352/7352 [==============================] - 32s 4ms/step - loss: 0.5049 - acc: 0.6624 - val_loss: 0.6217 - val_acc: 0.6213\n",
            "Epoch 13/30\n",
            "7352/7352 [==============================] - 31s 4ms/step - loss: 0.5063 - acc: 0.6647 - val_loss: 0.6719 - val_acc: 0.6233\n",
            "Epoch 14/30\n",
            "7352/7352 [==============================] - 32s 4ms/step - loss: 0.4823 - acc: 0.6672 - val_loss: 0.6329 - val_acc: 0.6288\n",
            "Epoch 15/30\n",
            "7352/7352 [==============================] - 32s 4ms/step - loss: 0.4682 - acc: 0.6674 - val_loss: 0.5900 - val_acc: 0.6312\n",
            "Epoch 16/30\n",
            "7352/7352 [==============================] - 32s 4ms/step - loss: 0.4647 - acc: 0.6672 - val_loss: 0.7429 - val_acc: 0.6111\n",
            "Epoch 17/30\n",
            "7352/7352 [==============================] - 32s 4ms/step - loss: 0.4721 - acc: 0.6699 - val_loss: 0.5963 - val_acc: 0.6237\n",
            "Epoch 18/30\n",
            "7352/7352 [==============================] - 31s 4ms/step - loss: 0.4635 - acc: 0.6732 - val_loss: 0.5895 - val_acc: 0.6240\n",
            "Epoch 19/30\n",
            "7352/7352 [==============================] - 31s 4ms/step - loss: 0.4582 - acc: 0.6766 - val_loss: 0.6144 - val_acc: 0.6305\n",
            "Epoch 20/30\n",
            "7352/7352 [==============================] - 31s 4ms/step - loss: 0.5083 - acc: 0.6711 - val_loss: 0.6650 - val_acc: 0.6186\n",
            "Epoch 21/30\n",
            "7352/7352 [==============================] - 31s 4ms/step - loss: 0.4569 - acc: 0.6798 - val_loss: 0.5876 - val_acc: 0.6345\n",
            "Epoch 22/30\n",
            "7352/7352 [==============================] - 32s 4ms/step - loss: 0.4569 - acc: 0.6744 - val_loss: 0.6036 - val_acc: 0.6247\n",
            "Epoch 23/30\n",
            "7352/7352 [==============================] - 31s 4ms/step - loss: 0.4562 - acc: 0.6794 - val_loss: 0.7645 - val_acc: 0.6362\n",
            "Epoch 24/30\n",
            "7352/7352 [==============================] - 31s 4ms/step - loss: 0.4564 - acc: 0.6825 - val_loss: 0.6798 - val_acc: 0.6267\n",
            "Epoch 25/30\n",
            "7352/7352 [==============================] - 32s 4ms/step - loss: 0.4581 - acc: 0.6785 - val_loss: 0.5824 - val_acc: 0.6332\n",
            "Epoch 26/30\n",
            "7352/7352 [==============================] - 33s 4ms/step - loss: 0.4469 - acc: 0.6940 - val_loss: 0.6210 - val_acc: 0.6247\n",
            "Epoch 27/30\n",
            "7352/7352 [==============================] - 33s 4ms/step - loss: 0.4438 - acc: 0.7024 - val_loss: 0.5528 - val_acc: 0.6437\n",
            "Epoch 28/30\n",
            "7352/7352 [==============================] - 32s 4ms/step - loss: 0.4303 - acc: 0.7190 - val_loss: 0.5384 - val_acc: 0.6810\n",
            "Epoch 29/30\n",
            "7352/7352 [==============================] - 32s 4ms/step - loss: 0.3883 - acc: 0.7739 - val_loss: 0.5092 - val_acc: 0.7655\n",
            "Epoch 30/30\n",
            "7352/7352 [==============================] - 32s 4ms/step - loss: 0.3414 - acc: 0.8028 - val_loss: 0.5203 - val_acc: 0.7713\n",
            "Test loss: 0.5203237037180645\n",
            "Test accuracy: 0.7712928401764506\n"
          ],
          "name": "stdout"
        }
      ]
    },
    {
      "cell_type": "code",
      "metadata": {
        "id": "FMVKJ32WDeDr",
        "colab_type": "code",
        "outputId": "d30feab3-1589-4448-b44d-23c38bbd842a",
        "colab": {
          "base_uri": "https://localhost:8080/",
          "height": 313
        }
      },
      "source": [
        "score = model.evaluate(X_test, Y_test, verbose=0) \n",
        "print('Test score:', score[0]) \n",
        "print('Test accuracy:', score[1])\n",
        "\n",
        "fig,ax = plt.subplots(1,1)\n",
        "ax.set_xlabel('epoch') ; ax.set_ylabel('Categorical Crossentropy Loss')\n",
        "\n",
        "# list of epoch numbers\n",
        "x = list(range(1,epochs+1))\n",
        "\n",
        "# print(history.history.keys())\n",
        "# dict_keys(['val_loss', 'val_acc', 'loss', 'acc'])\n",
        "# history = model_drop.fit(X_train, Y_train, batch_size=batch_size, epochs=nb_epoch, verbose=1, validation_data=(X_test, Y_test))\n",
        "\n",
        "# we will get val_loss and val_acc only when you pass the paramter validation_data\n",
        "# val_loss : validation loss\n",
        "# val_acc : validation accuracy\n",
        "\n",
        "# loss : training loss\n",
        "# acc : train accuracy\n",
        "# for each key in histrory.histrory we will have a list of length equal to number of epochs\n",
        "\n",
        "vy = history.history['val_loss']\n",
        "ty = history.history['loss']\n",
        "plt_dynamic(x, vy, ty, ax)"
      ],
      "execution_count": 0,
      "outputs": [
        {
          "output_type": "stream",
          "text": [
            "Test score: 0.5203237037180645\n",
            "Test accuracy: 0.7712928401764506\n"
          ],
          "name": "stdout"
        },
        {
          "output_type": "display_data",
          "data": {
            "image/png": "[encoded data removed]",
            "text/plain": [
              "<Figure size 432x288 with 1 Axes>"
            ]
          },
          "metadata": {
            "tags": []
          }
        }
      ]
    },
    {
      "cell_type": "code",
      "metadata": {
        "id": "iP_T83tPDeKu",
        "colab_type": "code",
        "outputId": "3e61e02e-cc38-4529-c2f6-1a0ef90bd1fa",
        "colab": {
          "base_uri": "https://localhost:8080/",
          "height": 153
        }
      },
      "source": [
        "# Confusion Matrix\n",
        "print(confusion_matrix(Y_test, model.predict(X_test)))"
      ],
      "execution_count": 0,
      "outputs": [
        {
          "output_type": "stream",
          "text": [
            "Pred                LAYING  SITTING  STANDING  WALKING  WALKING_UPSTAIRS\n",
            "True                                                                    \n",
            "LAYING                 537        0         0        0                 0\n",
            "SITTING                  8      368        98        0                17\n",
            "STANDING                 0       74       458        0                 0\n",
            "WALKING                  0        0         5      450                41\n",
            "WALKING_DOWNSTAIRS       0        0         0        1               419\n",
            "WALKING_UPSTAIRS         0        2         1        8               460\n"
          ],
          "name": "stdout"
        }
      ]
    },
    {
      "cell_type": "markdown",
      "metadata": {
        "id": "-NBVzuitELd3",
        "colab_type": "text"
      },
      "source": [
        "<h3> 2 LSTM Layers having 32 LSTM units + Dropout (0.4) </h3>"
      ]
    },
    {
      "cell_type": "code",
      "metadata": {
        "id": "dqWBMOC3DeRt",
        "colab_type": "code",
        "outputId": "944448f7-5850-49fd-90eb-716844008c15",
        "colab": {
          "base_uri": "https://localhost:8080/",
          "height": 289
        }
      },
      "source": [
        "# Initiliazing the sequential model\n",
        "model = Sequential()\n",
        "\n",
        "#https://adventuresinmachinelearning.com/keras-lstm-tutorial/\n",
        "#Multilayer LSTM \n",
        "\n",
        "model.add(LSTM(32, return_sequences=True,input_shape=(timesteps, input_dim)))\n",
        "model.add(LSTM(16,input_shape=(timesteps, 32)))\n",
        "model.add(Dropout(0.4))\n",
        "model.add(Dense(n_classes, activation='sigmoid'))\n",
        "model.summary()"
      ],
      "execution_count": 0,
      "outputs": [
        {
          "output_type": "stream",
          "text": [
            "Model: \"sequential_6\"\n",
            "_________________________________________________________________\n",
            "Layer (type)                 Output Shape              Param #   \n",
            "=================================================================\n",
            "lstm_10 (LSTM)               (None, 128, 32)           5376      \n",
            "_________________________________________________________________\n",
            "lstm_11 (LSTM)               (None, 16)                3136      \n",
            "_________________________________________________________________\n",
            "dropout_6 (Dropout)          (None, 16)                0         \n",
            "_________________________________________________________________\n",
            "dense_6 (Dense)              (None, 6)                 102       \n",
            "=================================================================\n",
            "Total params: 8,614\n",
            "Trainable params: 8,614\n",
            "Non-trainable params: 0\n",
            "_________________________________________________________________\n"
          ],
          "name": "stdout"
        }
      ]
    },
    {
      "cell_type": "code",
      "metadata": {
        "id": "Ly3fHpC6EM93",
        "colab_type": "code",
        "colab": {}
      },
      "source": [
        "# Compiling the model\n",
        "model.compile(loss='categorical_crossentropy',\n",
        "              optimizer='rmsprop',\n",
        "              metrics=['accuracy'])"
      ],
      "execution_count": 0,
      "outputs": []
    },
    {
      "cell_type": "code",
      "metadata": {
        "id": "UCPAxoztENJ7",
        "colab_type": "code",
        "outputId": "824061ad-7adb-461a-a33d-e1a5831da8e7",
        "colab": {
          "base_uri": "https://localhost:8080/",
          "height": 408
        }
      },
      "source": [
        "# Training the model\n",
        "history=model.fit(X_train,\n",
        "          Y_train,\n",
        "          batch_size=batch_size,\n",
        "          validation_data=(X_test, Y_test),\n",
        "          epochs=epochs)\n",
        "score = model.evaluate(X_test, Y_test, verbose=0)\n",
        "print('Test loss:', score[0])\n",
        "print('Test accuracy:', score[1])"
      ],
      "execution_count": 0,
      "outputs": [
        {
          "output_type": "stream",
          "text": [
            "Train on 7352 samples, validate on 2947 samples\n",
            "Epoch 1/10\n",
            "7352/7352 [==============================] - 28s 4ms/step - loss: 1.3801 - acc: 0.4603 - val_loss: 1.1242 - val_acc: 0.4927\n",
            "Epoch 2/10\n",
            "7352/7352 [==============================] - 26s 4ms/step - loss: 1.0014 - acc: 0.5684 - val_loss: 0.9022 - val_acc: 0.5830\n",
            "Epoch 3/10\n",
            "7352/7352 [==============================] - 25s 3ms/step - loss: 0.8792 - acc: 0.6249 - val_loss: 0.8048 - val_acc: 0.6186\n",
            "Epoch 4/10\n",
            "7352/7352 [==============================] - 26s 3ms/step - loss: 0.7942 - acc: 0.6629 - val_loss: 0.7416 - val_acc: 0.6854\n",
            "Epoch 5/10\n",
            "7352/7352 [==============================] - 26s 4ms/step - loss: 0.7436 - acc: 0.6930 - val_loss: 0.6989 - val_acc: 0.7065\n",
            "Epoch 6/10\n",
            "7352/7352 [==============================] - 26s 3ms/step - loss: 0.7190 - acc: 0.7035 - val_loss: 0.6275 - val_acc: 0.7380\n",
            "Epoch 7/10\n",
            "7352/7352 [==============================] - 26s 3ms/step - loss: 0.6266 - acc: 0.7406 - val_loss: 0.6459 - val_acc: 0.7129\n",
            "Epoch 8/10\n",
            "7352/7352 [==============================] - 25s 3ms/step - loss: 0.5607 - acc: 0.7655 - val_loss: 0.6335 - val_acc: 0.7221\n",
            "Epoch 9/10\n",
            "7352/7352 [==============================] - 26s 3ms/step - loss: 0.5344 - acc: 0.7825 - val_loss: 0.6378 - val_acc: 0.7258\n",
            "Epoch 10/10\n",
            "7352/7352 [==============================] - 26s 3ms/step - loss: 0.5038 - acc: 0.7958 - val_loss: 0.5132 - val_acc: 0.7693\n",
            "Test loss: 0.5131604391759155\n",
            "Test accuracy: 0.7692568714148641\n"
          ],
          "name": "stdout"
        }
      ]
    },
    {
      "cell_type": "code",
      "metadata": {
        "id": "XSw4rAp0ENRa",
        "colab_type": "code",
        "outputId": "d45dfcec-84f7-48c2-ba45-a70221800377",
        "colab": {
          "base_uri": "https://localhost:8080/",
          "height": 313
        }
      },
      "source": [
        "score = model.evaluate(X_test, Y_test, verbose=0) \n",
        "print('Test score:', score[0]) \n",
        "print('Test accuracy:', score[1])\n",
        "\n",
        "fig,ax = plt.subplots(1,1)\n",
        "ax.set_xlabel('epoch') ; ax.set_ylabel('Categorical Crossentropy Loss')\n",
        "\n",
        "# list of epoch numbers\n",
        "x = list(range(1,epochs+1))\n",
        "\n",
        "# print(history.history.keys())\n",
        "# dict_keys(['val_loss', 'val_acc', 'loss', 'acc'])\n",
        "# history = model_drop.fit(X_train, Y_train, batch_size=batch_size, epochs=nb_epoch, verbose=1, validation_data=(X_test, Y_test))\n",
        "\n",
        "# we will get val_loss and val_acc only when you pass the paramter validation_data\n",
        "# val_loss : validation loss\n",
        "# val_acc : validation accuracy\n",
        "\n",
        "# loss : training loss\n",
        "# acc : train accuracy\n",
        "# for each key in histrory.histrory we will have a list of length equal to number of epochs\n",
        "\n",
        "vy = history.history['val_loss']\n",
        "ty = history.history['loss']\n",
        "plt_dynamic(x, vy, ty, ax)"
      ],
      "execution_count": 0,
      "outputs": [
        {
          "output_type": "stream",
          "text": [
            "Test score: 0.5131604391759155\n",
            "Test accuracy: 0.7692568714148641\n"
          ],
          "name": "stdout"
        },
        {
          "output_type": "display_data",
          "data": {
            "image/png": "[encoded data removed]",
            "text/plain": [
              "<Figure size 432x288 with 1 Axes>"
            ]
          },
          "metadata": {
            "tags": []
          }
        }
      ]
    },
    {
      "cell_type": "code",
      "metadata": {
        "id": "O8l_1R9rENYY",
        "colab_type": "code",
        "outputId": "9e319fbb-54f1-4fb4-b005-8a570674784d",
        "colab": {
          "base_uri": "https://localhost:8080/",
          "height": 187
        }
      },
      "source": [
        "# Confusion Matrix\n",
        "print(confusion_matrix(Y_test, model.predict(X_test)))"
      ],
      "execution_count": 0,
      "outputs": [
        {
          "output_type": "stream",
          "text": [
            "Pred                LAYING  SITTING  ...  WALKING_DOWNSTAIRS  WALKING_UPSTAIRS\n",
            "True                                 ...                                      \n",
            "LAYING                 537        0  ...                   0                 0\n",
            "SITTING                  0      463  ...                   7                 0\n",
            "STANDING                 0      182  ...                   1                 3\n",
            "WALKING                  0        1  ...                   2                43\n",
            "WALKING_DOWNSTAIRS       0        1  ...                 167               234\n",
            "WALKING_UPSTAIRS         0        0  ...                  96               310\n",
            "\n",
            "[6 rows x 6 columns]\n"
          ],
          "name": "stdout"
        }
      ]
    },
    {
      "cell_type": "markdown",
      "metadata": {
        "id": "fu1E5QyTMjVW",
        "colab_type": "text"
      },
      "source": [
        "<h3> 2 LSTM Layers having 64 LSTM units + Dropout (0.5) </h3>"
      ]
    },
    {
      "cell_type": "code",
      "metadata": {
        "id": "yC2VNguGMplB",
        "colab_type": "code",
        "colab": {}
      },
      "source": [
        "# Initializing parameters\n",
        "epochs = 30\n",
        "batch_size = 32\n",
        "n_hidden = n_hidden"
      ],
      "execution_count": 0,
      "outputs": []
    },
    {
      "cell_type": "code",
      "metadata": {
        "id": "xu-2v_c8MqCi",
        "colab_type": "code",
        "outputId": "112ed32c-f61c-41b3-e6a5-1a4413eb337e",
        "colab": {
          "base_uri": "https://localhost:8080/",
          "height": 357
        }
      },
      "source": [
        "from keras.layers.normalization import BatchNormalization\n",
        "# Initiliazing the sequential model\n",
        "model = Sequential()\n",
        "\n",
        "#https://adventuresinmachinelearning.com/keras-lstm-tutorial/\n",
        "#Multilayer LSTM \n",
        "\n",
        "model.add(LSTM(128, return_sequences=True,input_shape=(timesteps, input_dim)))\n",
        "model.add(Dropout(0.5))\n",
        "model.add(LSTM(128,input_shape=(timesteps,input_dim)))\n",
        "model.add(BatchNormalization())\n",
        "model.add(Dropout(0.5))\n",
        "model.add(Dense(n_classes, activation='sigmoid'))\n",
        "model.summary()"
      ],
      "execution_count": 0,
      "outputs": [
        {
          "output_type": "stream",
          "text": [
            "Model: \"sequential_2\"\n",
            "_________________________________________________________________\n",
            "Layer (type)                 Output Shape              Param #   \n",
            "=================================================================\n",
            "lstm_3 (LSTM)                (None, 128, 128)          70656     \n",
            "_________________________________________________________________\n",
            "dropout_3 (Dropout)          (None, 128, 128)          0         \n",
            "_________________________________________________________________\n",
            "lstm_4 (LSTM)                (None, 128)               131584    \n",
            "_________________________________________________________________\n",
            "batch_normalization_2 (Batch (None, 128)               512       \n",
            "_________________________________________________________________\n",
            "dropout_4 (Dropout)          (None, 128)               0         \n",
            "_________________________________________________________________\n",
            "dense_2 (Dense)              (None, 6)                 774       \n",
            "=================================================================\n",
            "Total params: 203,526\n",
            "Trainable params: 203,270\n",
            "Non-trainable params: 256\n",
            "_________________________________________________________________\n"
          ],
          "name": "stdout"
        }
      ]
    },
    {
      "cell_type": "code",
      "metadata": {
        "id": "vvnVt1qsMqLH",
        "colab_type": "code",
        "colab": {}
      },
      "source": [
        "# Compiling the model\n",
        "model.compile(loss='categorical_crossentropy',\n",
        "              optimizer='adam',\n",
        "              metrics=['accuracy'])"
      ],
      "execution_count": 0,
      "outputs": []
    },
    {
      "cell_type": "code",
      "metadata": {
        "id": "uLBYS0HBMqTQ",
        "colab_type": "code",
        "colab": {}
      },
      "source": [
        "# patient early stopping\n",
        "from keras.callbacks import EarlyStopping\n",
        "es = EarlyStopping(monitor='val_loss', mode='min', verbose=1, patience=20)"
      ],
      "execution_count": 0,
      "outputs": []
    },
    {
      "cell_type": "code",
      "metadata": {
        "id": "LJifmwoUMqYj",
        "colab_type": "code",
        "colab": {}
      },
      "source": [
        "# ModelCheckpoint\n",
        "from keras.callbacks import ModelCheckpoint\n",
        "mc = ModelCheckpoint('30epoch_model.h5', monitor='val_acc', mode='max', verbose=1, save_best_only=True)"
      ],
      "execution_count": 0,
      "outputs": []
    },
    {
      "cell_type": "code",
      "metadata": {
        "id": "ab8GOA2tMqiP",
        "colab_type": "code",
        "outputId": "d9710715-6c91-4ad6-926a-2b06a3bd4185",
        "colab": {
          "base_uri": "https://localhost:8080/",
          "height": 1000
        }
      },
      "source": [
        "# Training the model\n",
        "history=model.fit(X_train,\n",
        "          Y_train,\n",
        "          batch_size=batch_size,\n",
        "          validation_data=(X_test, Y_test),\n",
        "          epochs=epochs, callbacks=[es, mc])\n",
        "score = model.evaluate(X_test, Y_test, verbose=0)\n",
        "print('Test loss:', score[0])\n",
        "print('Test accuracy:', score[1])"
      ],
      "execution_count": 0,
      "outputs": [
        {
          "output_type": "stream",
          "text": [
            "Train on 7352 samples, validate on 2947 samples\n",
            "Epoch 1/30\n",
            "7352/7352 [==============================] - 109s 15ms/step - loss: 1.1494 - acc: 0.4736 - val_loss: 2.0248 - val_acc: 0.4153\n",
            "\n",
            "Epoch 00001: val_acc improved from -inf to 0.41534, saving model to 30epoch_model.h5\n",
            "Epoch 2/30\n",
            "7352/7352 [==============================] - 98s 13ms/step - loss: 0.9132 - acc: 0.5966 - val_loss: 0.8148 - val_acc: 0.6366\n",
            "\n",
            "Epoch 00002: val_acc improved from 0.41534 to 0.63658, saving model to 30epoch_model.h5\n",
            "Epoch 3/30\n",
            "7352/7352 [==============================] - 99s 13ms/step - loss: 0.7147 - acc: 0.6382 - val_loss: 0.8006 - val_acc: 0.5626\n",
            "\n",
            "Epoch 00003: val_acc did not improve from 0.63658\n",
            "Epoch 4/30\n",
            "7352/7352 [==============================] - 100s 14ms/step - loss: 0.6770 - acc: 0.6609 - val_loss: 0.6875 - val_acc: 0.6783\n",
            "\n",
            "Epoch 00004: val_acc improved from 0.63658 to 0.67832, saving model to 30epoch_model.h5\n",
            "Epoch 5/30\n",
            "7352/7352 [==============================] - 99s 13ms/step - loss: 0.6310 - acc: 0.7046 - val_loss: 0.8259 - val_acc: 0.5891\n",
            "\n",
            "Epoch 00005: val_acc did not improve from 0.67832\n",
            "Epoch 6/30\n",
            "7352/7352 [==============================] - 99s 13ms/step - loss: 0.7059 - acc: 0.6884 - val_loss: 0.5872 - val_acc: 0.7302\n",
            "\n",
            "Epoch 00006: val_acc improved from 0.67832 to 0.73023, saving model to 30epoch_model.h5\n",
            "Epoch 7/30\n",
            "7352/7352 [==============================] - 99s 13ms/step - loss: 0.4577 - acc: 0.7901 - val_loss: 0.5147 - val_acc: 0.7631\n",
            "\n",
            "Epoch 00007: val_acc improved from 0.73023 to 0.76315, saving model to 30epoch_model.h5\n",
            "Epoch 8/30\n",
            "7352/7352 [==============================] - 98s 13ms/step - loss: 0.3393 - acc: 0.8640 - val_loss: 0.4740 - val_acc: 0.8612\n",
            "\n",
            "Epoch 00008: val_acc improved from 0.76315 to 0.86121, saving model to 30epoch_model.h5\n",
            "Epoch 9/30\n",
            "7352/7352 [==============================] - 99s 13ms/step - loss: 0.2080 - acc: 0.9256 - val_loss: 0.3760 - val_acc: 0.8924\n",
            "\n",
            "Epoch 00009: val_acc improved from 0.86121 to 0.89243, saving model to 30epoch_model.h5\n",
            "Epoch 10/30\n",
            "7352/7352 [==============================] - 99s 13ms/step - loss: 0.1537 - acc: 0.9410 - val_loss: 0.3368 - val_acc: 0.9013\n",
            "\n",
            "Epoch 00010: val_acc improved from 0.89243 to 0.90126, saving model to 30epoch_model.h5\n",
            "Epoch 11/30\n",
            "7352/7352 [==============================] - 99s 13ms/step - loss: 0.2399 - acc: 0.9142 - val_loss: 0.3590 - val_acc: 0.8938\n",
            "\n",
            "Epoch 00011: val_acc did not improve from 0.90126\n",
            "Epoch 12/30\n",
            "7352/7352 [==============================] - 99s 13ms/step - loss: 0.1771 - acc: 0.9353 - val_loss: 0.3242 - val_acc: 0.9074\n",
            "\n",
            "Epoch 00012: val_acc improved from 0.90126 to 0.90736, saving model to 30epoch_model.h5\n",
            "Epoch 13/30\n",
            "7352/7352 [==============================] - 98s 13ms/step - loss: 0.1506 - acc: 0.9381 - val_loss: 0.3359 - val_acc: 0.8975\n",
            "\n",
            "Epoch 00013: val_acc did not improve from 0.90736\n",
            "Epoch 14/30\n",
            "7352/7352 [==============================] - 100s 14ms/step - loss: 0.1373 - acc: 0.9436 - val_loss: 0.3570 - val_acc: 0.8938\n",
            "\n",
            "Epoch 00014: val_acc did not improve from 0.90736\n",
            "Epoch 15/30\n",
            "7352/7352 [==============================] - 100s 14ms/step - loss: 0.1336 - acc: 0.9433 - val_loss: 0.3320 - val_acc: 0.9046\n",
            "\n",
            "Epoch 00015: val_acc did not improve from 0.90736\n",
            "Epoch 16/30\n",
            "7352/7352 [==============================] - 100s 14ms/step - loss: 0.1457 - acc: 0.9434 - val_loss: 0.3674 - val_acc: 0.9036\n",
            "\n",
            "Epoch 00016: val_acc did not improve from 0.90736\n",
            "Epoch 17/30\n",
            "7352/7352 [==============================] - 100s 14ms/step - loss: 0.1316 - acc: 0.9445 - val_loss: 0.3328 - val_acc: 0.9074\n",
            "\n",
            "Epoch 00017: val_acc did not improve from 0.90736\n",
            "Epoch 18/30\n",
            "7352/7352 [==============================] - 101s 14ms/step - loss: 0.1197 - acc: 0.9508 - val_loss: 0.3017 - val_acc: 0.9135\n",
            "\n",
            "Epoch 00018: val_acc improved from 0.90736 to 0.91347, saving model to 30epoch_model.h5\n",
            "Epoch 19/30\n",
            "7352/7352 [==============================] - 100s 14ms/step - loss: 0.1307 - acc: 0.9461 - val_loss: 0.3331 - val_acc: 0.9135\n",
            "\n",
            "Epoch 00019: val_acc did not improve from 0.91347\n",
            "Epoch 20/30\n",
            "7352/7352 [==============================] - 101s 14ms/step - loss: 0.1184 - acc: 0.9501 - val_loss: 0.3147 - val_acc: 0.9145\n",
            "\n",
            "Epoch 00020: val_acc improved from 0.91347 to 0.91449, saving model to 30epoch_model.h5\n",
            "Epoch 21/30\n",
            "7352/7352 [==============================] - 100s 14ms/step - loss: 0.1214 - acc: 0.9521 - val_loss: 0.4256 - val_acc: 0.8873\n",
            "\n",
            "Epoch 00021: val_acc did not improve from 0.91449\n",
            "Epoch 22/30\n",
            "7352/7352 [==============================] - 101s 14ms/step - loss: 0.1333 - acc: 0.9491 - val_loss: 0.2982 - val_acc: 0.9175\n",
            "\n",
            "Epoch 00022: val_acc improved from 0.91449 to 0.91754, saving model to 30epoch_model.h5\n",
            "Epoch 23/30\n",
            "7352/7352 [==============================] - 100s 14ms/step - loss: 0.1261 - acc: 0.9474 - val_loss: 0.3003 - val_acc: 0.9097\n",
            "\n",
            "Epoch 00023: val_acc did not improve from 0.91754\n",
            "Epoch 24/30\n",
            "7352/7352 [==============================] - 99s 13ms/step - loss: 0.1152 - acc: 0.9514 - val_loss: 0.3596 - val_acc: 0.9162\n",
            "\n",
            "Epoch 00024: val_acc did not improve from 0.91754\n",
            "Epoch 25/30\n",
            "7352/7352 [==============================] - 99s 13ms/step - loss: 0.1533 - acc: 0.9436 - val_loss: 0.2326 - val_acc: 0.9070\n",
            "\n",
            "Epoch 00025: val_acc did not improve from 0.91754\n",
            "Epoch 26/30\n",
            "7352/7352 [==============================] - 99s 13ms/step - loss: 0.1488 - acc: 0.9372 - val_loss: 0.3371 - val_acc: 0.9182\n",
            "\n",
            "Epoch 00026: val_acc improved from 0.91754 to 0.91822, saving model to 30epoch_model.h5\n",
            "Epoch 27/30\n",
            "7352/7352 [==============================] - 99s 13ms/step - loss: 0.1326 - acc: 0.9448 - val_loss: 0.2420 - val_acc: 0.9145\n",
            "\n",
            "Epoch 00027: val_acc did not improve from 0.91822\n",
            "Epoch 28/30\n",
            "7352/7352 [==============================] - 100s 14ms/step - loss: 0.1198 - acc: 0.9482 - val_loss: 0.2390 - val_acc: 0.9196\n",
            "\n",
            "Epoch 00028: val_acc improved from 0.91822 to 0.91958, saving model to 30epoch_model.h5\n",
            "Epoch 29/30\n",
            "7352/7352 [==============================] - 99s 13ms/step - loss: 0.1157 - acc: 0.9527 - val_loss: 0.2429 - val_acc: 0.9260\n",
            "\n",
            "Epoch 00029: val_acc improved from 0.91958 to 0.92603, saving model to 30epoch_model.h5\n",
            "Epoch 30/30\n",
            "7352/7352 [==============================] - 99s 13ms/step - loss: 0.1081 - acc: 0.9544 - val_loss: 0.2616 - val_acc: 0.9199\n",
            "\n",
            "Epoch 00030: val_acc did not improve from 0.92603\n",
            "Test loss: 0.2615530221774433\n",
            "Test accuracy: 0.9199185612487275\n"
          ],
          "name": "stdout"
        }
      ]
    },
    {
      "cell_type": "code",
      "metadata": {
        "id": "oPBCIfDVTcIh",
        "colab_type": "code",
        "outputId": "7021b44d-e674-481a-ba52-0baceddf2cee",
        "colab": {
          "base_uri": "https://localhost:8080/",
          "height": 313
        }
      },
      "source": [
        "import matplotlib.pyplot as plt\n",
        "score = model.evaluate(X_test, Y_test, verbose=0) \n",
        "print('Test score:', score[0]) \n",
        "print('Test accuracy:', score[1])\n",
        "\n",
        "fig,ax = plt.subplots(1,1)\n",
        "ax.set_xlabel('epoch') ; ax.set_ylabel('Categorical Crossentropy Loss')\n",
        "\n",
        "# list of epoch numbers\n",
        "x = list(range(1,epochs+1))\n",
        "\n",
        "vy = history.history['val_loss']\n",
        "ty = history.history['loss']\n",
        "plt_dynamic(x, vy, ty, ax)"
      ],
      "execution_count": 0,
      "outputs": [
        {
          "output_type": "stream",
          "text": [
            "Test score: 0.2615530221774433\n",
            "Test accuracy: 0.9199185612487275\n"
          ],
          "name": "stdout"
        },
        {
          "output_type": "display_data",
          "data": {
            "image/png": "[encoded data removed]",
            "text/plain": [
              "<Figure size 432x288 with 1 Axes>"
            ]
          },
          "metadata": {
            "tags": []
          }
        }
      ]
    },
    {
      "cell_type": "code",
      "metadata": {
        "id": "dLttw5tmTcbJ",
        "colab_type": "code",
        "outputId": "05e99735-431a-4522-a2b5-fb9074caa67f",
        "colab": {
          "base_uri": "https://localhost:8080/",
          "height": 187
        }
      },
      "source": [
        "# Confusion Matrix\n",
        "print(confusion_matrix(Y_test, model.predict(X_test)))"
      ],
      "execution_count": 0,
      "outputs": [
        {
          "output_type": "stream",
          "text": [
            "Pred                LAYING  SITTING  ...  WALKING_DOWNSTAIRS  WALKING_UPSTAIRS\n",
            "True                                 ...                                      \n",
            "LAYING                 537        0  ...                   0                 0\n",
            "SITTING                  5      384  ...                   0                 4\n",
            "STANDING                 0       98  ...                   0                 1\n",
            "WALKING                  0        0  ...                  25                 2\n",
            "WALKING_DOWNSTAIRS       0        0  ...                 417                 2\n",
            "WALKING_UPSTAIRS         0        0  ...                   0               471\n",
            "\n",
            "[6 rows x 6 columns]\n"
          ],
          "name": "stdout"
        }
      ]
    },
    {
      "cell_type": "code",
      "metadata": {
        "id": "sqwTzCFsTc1w",
        "colab_type": "code",
        "colab": {}
      },
      "source": [
        "# Save the model\n",
        "model.save(\"30epoch_model.h5\")"
      ],
      "execution_count": 0,
      "outputs": []
    },
    {
      "cell_type": "code",
      "metadata": {
        "colab_type": "code",
        "id": "8cJVx8GmbauI",
        "colab": {}
      },
      "source": [
        "from numpy import loadtxt\n",
        "from keras.models import load_model\n",
        "models = load_model('30epoch_model.h5')"
      ],
      "execution_count": 0,
      "outputs": []
    },
    {
      "cell_type": "code",
      "metadata": {
        "colab_type": "code",
        "outputId": "3638eb11-1911-4fda-ed65-e4c50b4394c0",
        "id": "89VDld7bbYx9",
        "colab": {
          "base_uri": "https://localhost:8080/",
          "height": 357
        }
      },
      "source": [
        "models.summary()"
      ],
      "execution_count": 0,
      "outputs": [
        {
          "output_type": "stream",
          "text": [
            "Model: \"sequential_2\"\n",
            "_________________________________________________________________\n",
            "Layer (type)                 Output Shape              Param #   \n",
            "=================================================================\n",
            "lstm_3 (LSTM)                (None, 128, 128)          70656     \n",
            "_________________________________________________________________\n",
            "dropout_3 (Dropout)          (None, 128, 128)          0         \n",
            "_________________________________________________________________\n",
            "lstm_4 (LSTM)                (None, 128)               131584    \n",
            "_________________________________________________________________\n",
            "batch_normalization_2 (Batch (None, 128)               512       \n",
            "_________________________________________________________________\n",
            "dropout_4 (Dropout)          (None, 128)               0         \n",
            "_________________________________________________________________\n",
            "dense_2 (Dense)              (None, 6)                 774       \n",
            "=================================================================\n",
            "Total params: 203,526\n",
            "Trainable params: 203,270\n",
            "Non-trainable params: 256\n",
            "_________________________________________________________________\n"
          ],
          "name": "stdout"
        }
      ]
    },
    {
      "cell_type": "code",
      "metadata": {
        "colab_type": "code",
        "id": "mTwlYvuebYyC",
        "colab": {}
      },
      "source": [
        "# Compiling the model\n",
        "models.compile(loss='categorical_crossentropy',\n",
        "              optimizer='adam',\n",
        "              metrics=['accuracy'])"
      ],
      "execution_count": 0,
      "outputs": []
    },
    {
      "cell_type": "code",
      "metadata": {
        "colab_type": "code",
        "id": "PaZS0GJDbYyG",
        "colab": {}
      },
      "source": [
        "# patient early stopping\n",
        "from keras.callbacks import EarlyStopping\n",
        "es = EarlyStopping(monitor='val_loss', mode='min', verbose=1, patience=20)"
      ],
      "execution_count": 0,
      "outputs": []
    },
    {
      "cell_type": "code",
      "metadata": {
        "colab_type": "code",
        "id": "uYIh0cv0bYyJ",
        "colab": {}
      },
      "source": [
        "# ModelCheckpoint\n",
        "from keras.callbacks import ModelCheckpoint\n",
        "mc = ModelCheckpoint('80epoch_model.h5', monitor='val_acc', mode='max', verbose=1, save_best_only=True)"
      ],
      "execution_count": 0,
      "outputs": []
    },
    {
      "cell_type": "code",
      "metadata": {
        "colab_type": "code",
        "outputId": "3acf031e-12d3-4e92-aceb-d3582c667544",
        "id": "9NDbkKw7bYyM",
        "colab": {
          "base_uri": "https://localhost:8080/",
          "height": 748
        }
      },
      "source": [
        "# Training the model\n",
        "history5=models.fit(X_train,\n",
        "          Y_train,\n",
        "          batch_size=batch_size,\n",
        "          validation_data=(X_test, Y_test),\n",
        "          epochs=10, callbacks=[es, mc])\n",
        "score = models.evaluate(X_test, Y_test, verbose=0)\n",
        "print('Test loss:', score[0])\n",
        "print('Test accuracy:', score[1])"
      ],
      "execution_count": 0,
      "outputs": [
        {
          "output_type": "stream",
          "text": [
            "Train on 7352 samples, validate on 2947 samples\n",
            "Epoch 1/10\n",
            "7352/7352 [==============================] - 108s 15ms/step - loss: 0.1179 - acc: 0.9487 - val_loss: 0.2702 - val_acc: 0.9274\n",
            "\n",
            "Epoch 00001: val_acc improved from -inf to 0.92738, saving model to 80epoch_model.h5\n",
            "Epoch 2/10\n",
            "7352/7352 [==============================] - 99s 13ms/step - loss: 0.1437 - acc: 0.9437 - val_loss: 0.3799 - val_acc: 0.9026\n",
            "\n",
            "Epoch 00002: val_acc did not improve from 0.92738\n",
            "Epoch 3/10\n",
            "7352/7352 [==============================] - 99s 14ms/step - loss: 0.1181 - acc: 0.9538 - val_loss: 0.3505 - val_acc: 0.9125\n",
            "\n",
            "Epoch 00003: val_acc did not improve from 0.92738\n",
            "Epoch 4/10\n",
            "7352/7352 [==============================] - 100s 14ms/step - loss: 0.1186 - acc: 0.9497 - val_loss: 0.3242 - val_acc: 0.9131\n",
            "\n",
            "Epoch 00004: val_acc did not improve from 0.92738\n",
            "Epoch 5/10\n",
            "7352/7352 [==============================] - 99s 14ms/step - loss: 0.1625 - acc: 0.9354 - val_loss: 0.3209 - val_acc: 0.9084\n",
            "\n",
            "Epoch 00005: val_acc did not improve from 0.92738\n",
            "Epoch 6/10\n",
            "7352/7352 [==============================] - 99s 13ms/step - loss: 0.1477 - acc: 0.9407 - val_loss: 0.2865 - val_acc: 0.9131\n",
            "\n",
            "Epoch 00006: val_acc did not improve from 0.92738\n",
            "Epoch 7/10\n",
            "7352/7352 [==============================] - 101s 14ms/step - loss: 0.1170 - acc: 0.9463 - val_loss: 0.3076 - val_acc: 0.9186\n",
            "\n",
            "Epoch 00007: val_acc did not improve from 0.92738\n",
            "Epoch 8/10\n",
            "7352/7352 [==============================] - 106s 14ms/step - loss: 0.1133 - acc: 0.9528 - val_loss: 0.3397 - val_acc: 0.9206\n",
            "\n",
            "Epoch 00008: val_acc did not improve from 0.92738\n",
            "Epoch 9/10\n",
            "7352/7352 [==============================] - 102s 14ms/step - loss: 0.1179 - acc: 0.9513 - val_loss: 0.2826 - val_acc: 0.9260\n",
            "\n",
            "Epoch 00009: val_acc did not improve from 0.92738\n",
            "Epoch 10/10\n",
            "7352/7352 [==============================] - 105s 14ms/step - loss: 0.1115 - acc: 0.9531 - val_loss: 0.3137 - val_acc: 0.9148\n",
            "\n",
            "Epoch 00010: val_acc did not improve from 0.92738\n",
            "Test loss: 0.3136977848725028\n",
            "Test accuracy: 0.9148286392941974\n"
          ],
          "name": "stdout"
        }
      ]
    },
    {
      "cell_type": "code",
      "metadata": {
        "colab_type": "code",
        "outputId": "e4a0b39a-dc94-4eab-dfdc-d77c6f4436b1",
        "id": "ma_mO0iqq-CW",
        "colab": {
          "base_uri": "https://localhost:8080/",
          "height": 313
        }
      },
      "source": [
        "import matplotlib.pyplot as plt\n",
        "score = models.evaluate(X_test, Y_test, verbose=0) \n",
        "print('Test score:', score[0]) \n",
        "print('Test accuracy:', score[1])\n",
        "\n",
        "fig,ax = plt.subplots(1,1)\n",
        "ax.set_xlabel('epoch') ; ax.set_ylabel('Categorical Crossentropy Loss')\n",
        "\n",
        "# list of epoch numbers\n",
        "x = list(range(1,epochs+1))\n",
        "\n",
        "vy = history.history['val_loss']\n",
        "ty = history.history['loss']\n",
        "plt_dynamic(x, vy, ty, ax)"
      ],
      "execution_count": 0,
      "outputs": [
        {
          "output_type": "stream",
          "text": [
            "Test score: 0.3136977848725028\n",
            "Test accuracy: 0.9148286392941974\n"
          ],
          "name": "stdout"
        },
        {
          "output_type": "display_data",
          "data": {
            "image/png": "[encoded data removed]",
            "text/plain": [
              "<Figure size 432x288 with 1 Axes>"
            ]
          },
          "metadata": {
            "tags": []
          }
        }
      ]
    },
    {
      "cell_type": "code",
      "metadata": {
        "colab_type": "code",
        "id": "K6tKGaiIq-Cs",
        "colab": {}
      },
      "source": [
        "# Save the model\n",
        "models.save(\"80epoch_model.h5\")"
      ],
      "execution_count": 0,
      "outputs": []
    },
    {
      "cell_type": "markdown",
      "metadata": {
        "id": "iZCEo3-OxuaN",
        "colab_type": "text"
      },
      "source": [
        "<h3> 2 LSTM Layers having 128 LSTM units + Dropout (0.5) </h3>"
      ]
    },
    {
      "cell_type": "code",
      "metadata": {
        "id": "MwJc3M62Z8xp",
        "colab_type": "code",
        "colab": {}
      },
      "source": [
        "# Initializing parameters\n",
        "epochs = 30\n",
        "batch_size = 32\n",
        "n_hidden = n_hidden"
      ],
      "execution_count": 0,
      "outputs": []
    },
    {
      "cell_type": "code",
      "metadata": {
        "id": "6s0UQIpIZ89R",
        "colab_type": "code",
        "outputId": "e8242caf-bc1c-47fa-8002-c39692c37b33",
        "colab": {
          "base_uri": "https://localhost:8080/",
          "height": 357
        }
      },
      "source": [
        "# Initiliazing the sequential model\n",
        "model = Sequential()\n",
        "\n",
        "#https://adventuresinmachinelearning.com/keras-lstm-tutorial/\n",
        "#Multilayer LSTM \n",
        "\n",
        "model.add(LSTM(128, return_sequences=True,input_shape=(timesteps, input_dim)))\n",
        "model.add(Dropout(0.5))\n",
        "model.add(LSTM(128,input_shape=(timesteps, 32)))\n",
        "model.add(BatchNormalization())\n",
        "model.add(Dropout(0.5))\n",
        "model.add(Dense(n_classes, activation='sigmoid'))\n",
        "model.summary()"
      ],
      "execution_count": 0,
      "outputs": [
        {
          "output_type": "stream",
          "text": [
            "Model: \"sequential_16\"\n",
            "_________________________________________________________________\n",
            "Layer (type)                 Output Shape              Param #   \n",
            "=================================================================\n",
            "lstm_30 (LSTM)               (None, 128, 128)          70656     \n",
            "_________________________________________________________________\n",
            "dropout_21 (Dropout)         (None, 128, 128)          0         \n",
            "_________________________________________________________________\n",
            "lstm_31 (LSTM)               (None, 128)               131584    \n",
            "_________________________________________________________________\n",
            "batch_normalization_7 (Batch (None, 128)               512       \n",
            "_________________________________________________________________\n",
            "dropout_22 (Dropout)         (None, 128)               0         \n",
            "_________________________________________________________________\n",
            "dense_15 (Dense)             (None, 6)                 774       \n",
            "=================================================================\n",
            "Total params: 203,526\n",
            "Trainable params: 203,270\n",
            "Non-trainable params: 256\n",
            "_________________________________________________________________\n"
          ],
          "name": "stdout"
        }
      ]
    },
    {
      "cell_type": "code",
      "metadata": {
        "id": "7eDgl8LDZ9Hv",
        "colab_type": "code",
        "colab": {}
      },
      "source": [
        "# Compiling the model\n",
        "model.compile(loss='categorical_crossentropy',\n",
        "              optimizer='rmsprop',\n",
        "              metrics=['accuracy'])"
      ],
      "execution_count": 0,
      "outputs": []
    },
    {
      "cell_type": "code",
      "metadata": {
        "id": "gD3EGMxrZ9Qf",
        "colab_type": "code",
        "colab": {}
      },
      "source": [
        "# patient early stopping\n",
        "from keras.callbacks import EarlyStopping\n",
        "es = EarlyStopping(monitor='val_loss', mode='min', verbose=1, patience=20)"
      ],
      "execution_count": 0,
      "outputs": []
    },
    {
      "cell_type": "code",
      "metadata": {
        "id": "6dVqCF1_Z9Y-",
        "colab_type": "code",
        "colab": {}
      },
      "source": [
        "# ModelCheckpoint\n",
        "from keras.callbacks import ModelCheckpoint\n",
        "mc = ModelCheckpoint('128layer_model.h5', monitor='val_acc', mode='max', verbose=1, save_best_only=True)"
      ],
      "execution_count": 0,
      "outputs": []
    },
    {
      "cell_type": "code",
      "metadata": {
        "id": "4UO0yKjpan_W",
        "colab_type": "code",
        "outputId": "1fb1d076-de0a-448c-a2e7-8958f14e9953",
        "colab": {
          "base_uri": "https://localhost:8080/",
          "height": 1000
        }
      },
      "source": [
        "# Training the model\n",
        "history=model.fit(X_train,\n",
        "          Y_train,\n",
        "          batch_size=batch_size,\n",
        "          validation_data=(X_test, Y_test),\n",
        "          epochs=epochs, callbacks=[es, mc])\n",
        "score = model.evaluate(X_test, Y_test, verbose=0)\n",
        "print('Test loss:', score[0])\n",
        "print('Test accuracy:', score[1])"
      ],
      "execution_count": 0,
      "outputs": [
        {
          "output_type": "stream",
          "text": [
            "Train on 7352 samples, validate on 2947 samples\n",
            "Epoch 1/30\n",
            "7352/7352 [==============================] - 93s 13ms/step - loss: 0.9964 - acc: 0.5520 - val_loss: 1.1033 - val_acc: 0.5969\n",
            "\n",
            "Epoch 00001: val_acc improved from -inf to 0.59688, saving model to 128layer_model.h5\n",
            "Epoch 2/30\n",
            "7352/7352 [==============================] - 89s 12ms/step - loss: 0.7406 - acc: 0.6270 - val_loss: 1.1731 - val_acc: 0.4791\n",
            "\n",
            "Epoch 00002: val_acc did not improve from 0.59688\n",
            "Epoch 3/30\n",
            "7352/7352 [==============================] - 90s 12ms/step - loss: 0.6767 - acc: 0.6398 - val_loss: 0.8352 - val_acc: 0.6111\n",
            "\n",
            "Epoch 00003: val_acc improved from 0.59688 to 0.61113, saving model to 128layer_model.h5\n",
            "Epoch 4/30\n",
            "7352/7352 [==============================] - 88s 12ms/step - loss: 0.6673 - acc: 0.6425 - val_loss: 0.8016 - val_acc: 0.6193\n",
            "\n",
            "Epoch 00004: val_acc improved from 0.61113 to 0.61927, saving model to 128layer_model.h5\n",
            "Epoch 5/30\n",
            "7352/7352 [==============================] - 88s 12ms/step - loss: 0.6483 - acc: 0.6474 - val_loss: 0.8502 - val_acc: 0.5938\n",
            "\n",
            "Epoch 00005: val_acc did not improve from 0.61927\n",
            "Epoch 6/30\n",
            "7352/7352 [==============================] - 89s 12ms/step - loss: 0.6422 - acc: 0.6564 - val_loss: 0.7956 - val_acc: 0.6135\n",
            "\n",
            "Epoch 00006: val_acc did not improve from 0.61927\n",
            "Epoch 7/30\n",
            "7352/7352 [==============================] - 90s 12ms/step - loss: 0.7330 - acc: 0.6291 - val_loss: 0.8348 - val_acc: 0.6200\n",
            "\n",
            "Epoch 00007: val_acc improved from 0.61927 to 0.61995, saving model to 128layer_model.h5\n",
            "Epoch 8/30\n",
            "7352/7352 [==============================] - 89s 12ms/step - loss: 0.6433 - acc: 0.6530 - val_loss: 0.8074 - val_acc: 0.6128\n",
            "\n",
            "Epoch 00008: val_acc did not improve from 0.61995\n",
            "Epoch 9/30\n",
            "7352/7352 [==============================] - 89s 12ms/step - loss: 0.6379 - acc: 0.6581 - val_loss: 0.7902 - val_acc: 0.6169\n",
            "\n",
            "Epoch 00009: val_acc did not improve from 0.61995\n",
            "Epoch 10/30\n",
            "7352/7352 [==============================] - 89s 12ms/step - loss: 0.6324 - acc: 0.6575 - val_loss: 0.7579 - val_acc: 0.6298\n",
            "\n",
            "Epoch 00010: val_acc improved from 0.61995 to 0.62979, saving model to 128layer_model.h5\n",
            "Epoch 11/30\n",
            "7352/7352 [==============================] - 88s 12ms/step - loss: 0.6484 - acc: 0.6615 - val_loss: 0.8207 - val_acc: 0.6288\n",
            "\n",
            "Epoch 00011: val_acc did not improve from 0.62979\n",
            "Epoch 12/30\n",
            "7352/7352 [==============================] - 89s 12ms/step - loss: 0.6477 - acc: 0.6642 - val_loss: 0.7687 - val_acc: 0.6240\n",
            "\n",
            "Epoch 00012: val_acc did not improve from 0.62979\n",
            "Epoch 13/30\n",
            "7352/7352 [==============================] - 89s 12ms/step - loss: 0.6352 - acc: 0.6601 - val_loss: 0.7422 - val_acc: 0.6271\n",
            "\n",
            "Epoch 00013: val_acc did not improve from 0.62979\n",
            "Epoch 14/30\n",
            "7352/7352 [==============================] - 88s 12ms/step - loss: 0.7999 - acc: 0.6264 - val_loss: 0.9224 - val_acc: 0.6088\n",
            "\n",
            "Epoch 00014: val_acc did not improve from 0.62979\n",
            "Epoch 15/30\n",
            "7352/7352 [==============================] - 87s 12ms/step - loss: 0.6497 - acc: 0.6582 - val_loss: 0.7595 - val_acc: 0.6291\n",
            "\n",
            "Epoch 00015: val_acc did not improve from 0.62979\n",
            "Epoch 16/30\n",
            "7352/7352 [==============================] - 90s 12ms/step - loss: 0.6608 - acc: 0.6670 - val_loss: 0.7682 - val_acc: 0.6278\n",
            "\n",
            "Epoch 00016: val_acc did not improve from 0.62979\n",
            "Epoch 17/30\n",
            "7352/7352 [==============================] - 91s 12ms/step - loss: 0.6458 - acc: 0.6658 - val_loss: 0.7651 - val_acc: 0.6325\n",
            "\n",
            "Epoch 00017: val_acc improved from 0.62979 to 0.63251, saving model to 128layer_model.h5\n",
            "Epoch 18/30\n",
            "7352/7352 [==============================] - 91s 12ms/step - loss: 0.6455 - acc: 0.6591 - val_loss: 0.8040 - val_acc: 0.6179\n",
            "\n",
            "Epoch 00018: val_acc did not improve from 0.63251\n",
            "Epoch 19/30\n",
            "7352/7352 [==============================] - 90s 12ms/step - loss: 0.6549 - acc: 0.6605 - val_loss: 0.7768 - val_acc: 0.6108\n",
            "\n",
            "Epoch 00019: val_acc did not improve from 0.63251\n",
            "Epoch 20/30\n",
            "7352/7352 [==============================] - 90s 12ms/step - loss: 0.6680 - acc: 0.6529 - val_loss: 0.9594 - val_acc: 0.6247\n",
            "\n",
            "Epoch 00020: val_acc did not improve from 0.63251\n",
            "Epoch 21/30\n",
            "7352/7352 [==============================] - 90s 12ms/step - loss: 0.5748 - acc: 0.6604 - val_loss: 0.7019 - val_acc: 0.6172\n",
            "\n",
            "Epoch 00021: val_acc did not improve from 0.63251\n",
            "Epoch 22/30\n",
            "7352/7352 [==============================] - 89s 12ms/step - loss: 0.5317 - acc: 0.6591 - val_loss: 0.5483 - val_acc: 0.6203\n",
            "\n",
            "Epoch 00022: val_acc did not improve from 0.63251\n",
            "Epoch 23/30\n",
            "7352/7352 [==============================] - 90s 12ms/step - loss: 0.4675 - acc: 0.6613 - val_loss: 0.4898 - val_acc: 0.6291\n",
            "\n",
            "Epoch 00023: val_acc did not improve from 0.63251\n",
            "Epoch 24/30\n",
            "7352/7352 [==============================] - 89s 12ms/step - loss: 0.4476 - acc: 0.6757 - val_loss: 0.6812 - val_acc: 0.5772\n",
            "\n",
            "Epoch 00024: val_acc did not improve from 0.63251\n",
            "Epoch 25/30\n",
            "7352/7352 [==============================] - 88s 12ms/step - loss: 0.3909 - acc: 0.7699 - val_loss: 0.5309 - val_acc: 0.7553\n",
            "\n",
            "Epoch 00025: val_acc improved from 0.63251 to 0.75534, saving model to 128layer_model.h5\n",
            "Epoch 26/30\n",
            "7352/7352 [==============================] - 88s 12ms/step - loss: 0.3375 - acc: 0.8035 - val_loss: 0.4877 - val_acc: 0.7805\n",
            "\n",
            "Epoch 00026: val_acc improved from 0.75534 to 0.78045, saving model to 128layer_model.h5\n",
            "Epoch 27/30\n",
            "7352/7352 [==============================] - 89s 12ms/step - loss: 0.2634 - acc: 0.8607 - val_loss: 0.3511 - val_acc: 0.9247\n",
            "\n",
            "Epoch 00027: val_acc improved from 0.78045 to 0.92467, saving model to 128layer_model.h5\n",
            "Epoch 28/30\n",
            "7352/7352 [==============================] - 88s 12ms/step - loss: 0.1769 - acc: 0.9404 - val_loss: 0.3783 - val_acc: 0.8992\n",
            "\n",
            "Epoch 00028: val_acc did not improve from 0.92467\n",
            "Epoch 29/30\n",
            "7352/7352 [==============================] - 87s 12ms/step - loss: 0.1492 - acc: 0.9448 - val_loss: 0.4136 - val_acc: 0.8968\n",
            "\n",
            "Epoch 00029: val_acc did not improve from 0.92467\n",
            "Epoch 30/30\n",
            "7352/7352 [==============================] - 89s 12ms/step - loss: 0.1578 - acc: 0.9357 - val_loss: 0.2774 - val_acc: 0.9179\n",
            "\n",
            "Epoch 00030: val_acc did not improve from 0.92467\n",
            "Test loss: 0.27744862166333983\n",
            "Test accuracy: 0.9178825924669155\n"
          ],
          "name": "stdout"
        }
      ]
    },
    {
      "cell_type": "code",
      "metadata": {
        "id": "pHjwpSqqkwfY",
        "colab_type": "code",
        "outputId": "b115049a-28b6-407a-b27c-1d0776f05e9e",
        "colab": {
          "base_uri": "https://localhost:8080/",
          "height": 313
        }
      },
      "source": [
        "import matplotlib.pyplot as plt\n",
        "score = model.evaluate(X_test, Y_test, verbose=0) \n",
        "print('Test score:', score[0]) \n",
        "print('Test accuracy:', score[1])\n",
        "\n",
        "fig,ax = plt.subplots(1,1)\n",
        "ax.set_xlabel('epoch') ; ax.set_ylabel('Categorical Crossentropy Loss')\n",
        "\n",
        "# list of epoch numbers\n",
        "x = list(range(1,epochs+1))\n",
        "\n",
        "vy = history.history['val_loss']\n",
        "ty = history.history['loss']\n",
        "plt_dynamic(x, vy, ty, ax)"
      ],
      "execution_count": 0,
      "outputs": [
        {
          "output_type": "stream",
          "text": [
            "Test score: 0.27744862166333983\n",
            "Test accuracy: 0.9178825924669155\n"
          ],
          "name": "stdout"
        },
        {
          "output_type": "display_data",
          "data": {
            "image/png": "[encoded data removed]",
            "text/plain": [
              "<Figure size 432x288 with 1 Axes>"
            ]
          },
          "metadata": {
            "tags": []
          }
        }
      ]
    },
    {
      "cell_type": "code",
      "metadata": {
        "id": "57YycjcNk2DT",
        "colab_type": "code",
        "outputId": "f7f0d072-4351-411c-c2a9-e29b16cb0e60",
        "colab": {
          "base_uri": "https://localhost:8080/",
          "height": 187
        }
      },
      "source": [
        "# Confusion Matrix\n",
        "print(confusion_matrix(Y_test, model.predict(X_test)))"
      ],
      "execution_count": 0,
      "outputs": [
        {
          "output_type": "stream",
          "text": [
            "Pred                LAYING  SITTING  ...  WALKING_DOWNSTAIRS  WALKING_UPSTAIRS\n",
            "True                                 ...                                      \n",
            "LAYING                 537        0  ...                   0                 0\n",
            "SITTING                  5      305  ...                   0                19\n",
            "STANDING                 0       26  ...                   0                 0\n",
            "WALKING                  0        0  ...                  19                 8\n",
            "WALKING_DOWNSTAIRS       0        0  ...                 419                 1\n",
            "WALKING_UPSTAIRS         0        0  ...                  22               449\n",
            "\n",
            "[6 rows x 6 columns]\n"
          ],
          "name": "stdout"
        }
      ]
    },
    {
      "cell_type": "code",
      "metadata": {
        "id": "hxsmfvWpaq9t",
        "colab_type": "code",
        "colab": {}
      },
      "source": [
        "# Save the model\n",
        "model.save(\"128layer_model.h5\")"
      ],
      "execution_count": 0,
      "outputs": []
    },
    {
      "cell_type": "code",
      "metadata": {
        "id": "J831Sx_Uk_Om",
        "colab_type": "code",
        "colab": {}
      },
      "source": [
        "from numpy import loadtxt\n",
        "from keras.models import load_model\n",
        "model_1 = load_model('128layer_model.h5')"
      ],
      "execution_count": 0,
      "outputs": []
    },
    {
      "cell_type": "code",
      "metadata": {
        "id": "GF_b3NCLlI_m",
        "colab_type": "code",
        "outputId": "2248dfbb-3c39-44d0-c114-b26a63ca7cb2",
        "colab": {
          "base_uri": "https://localhost:8080/",
          "height": 357
        }
      },
      "source": [
        "model_1.summary()"
      ],
      "execution_count": 0,
      "outputs": [
        {
          "output_type": "stream",
          "text": [
            "Model: \"sequential_1\"\n",
            "_________________________________________________________________\n",
            "Layer (type)                 Output Shape              Param #   \n",
            "=================================================================\n",
            "lstm_1 (LSTM)                (None, 128, 128)          70656     \n",
            "_________________________________________________________________\n",
            "dropout_1 (Dropout)          (None, 128, 128)          0         \n",
            "_________________________________________________________________\n",
            "lstm_2 (LSTM)                (None, 128)               131584    \n",
            "_________________________________________________________________\n",
            "batch_normalization_1 (Batch (None, 128)               512       \n",
            "_________________________________________________________________\n",
            "dropout_2 (Dropout)          (None, 128)               0         \n",
            "_________________________________________________________________\n",
            "dense_1 (Dense)              (None, 6)                 774       \n",
            "=================================================================\n",
            "Total params: 203,526\n",
            "Trainable params: 203,270\n",
            "Non-trainable params: 256\n",
            "_________________________________________________________________\n"
          ],
          "name": "stdout"
        }
      ]
    },
    {
      "cell_type": "code",
      "metadata": {
        "id": "1aHEoEkMMxnA",
        "colab_type": "code",
        "colab": {}
      },
      "source": [
        "# patient early stopping\n",
        "from keras.callbacks import EarlyStopping\n",
        "es = EarlyStopping(monitor='val_loss', mode='min', verbose=1, patience=20)"
      ],
      "execution_count": 0,
      "outputs": []
    },
    {
      "cell_type": "code",
      "metadata": {
        "id": "AwneixFRMx3b",
        "colab_type": "code",
        "colab": {}
      },
      "source": [
        "# ModelCheckpoint\n",
        "from keras.callbacks import ModelCheckpoint\n",
        "mc = ModelCheckpoint('30epoch_model.h5', monitor='val_acc', mode='max', verbose=1, save_best_only=True)"
      ],
      "execution_count": 0,
      "outputs": []
    },
    {
      "cell_type": "code",
      "metadata": {
        "id": "olTy6kZzlMB_",
        "colab_type": "code",
        "outputId": "97a9d155-efa6-4e71-c4e1-06e2b5bf05ce",
        "colab": {
          "base_uri": "https://localhost:8080/",
          "height": 1000
        }
      },
      "source": [
        "# Training the model\n",
        "history3=model_1.fit(X_train,\n",
        "          Y_train,\n",
        "          batch_size=batch_size,\n",
        "          validation_data=(X_test, Y_test),\n",
        "          epochs=30, callbacks=[es, mc])\n",
        "score = model_1.evaluate(X_test, Y_test, verbose=0)\n",
        "print('Test loss:', score[0])\n",
        "print('Test accuracy:', score[1])"
      ],
      "execution_count": 0,
      "outputs": [
        {
          "output_type": "stream",
          "text": [
            "Train on 7352 samples, validate on 2947 samples\n",
            "Epoch 1/30\n",
            "7352/7352 [==============================] - 90s 12ms/step - loss: 0.2056 - acc: 0.9416 - val_loss: 0.4322 - val_acc: 0.9111\n",
            "\n",
            "Epoch 00001: val_acc improved from -inf to 0.91110, saving model to 30epoch_model.h5\n",
            "Epoch 2/30\n",
            "7352/7352 [==============================] - 91s 12ms/step - loss: 0.1639 - acc: 0.9415 - val_loss: 0.3321 - val_acc: 0.9216\n",
            "\n",
            "Epoch 00002: val_acc improved from 0.91110 to 0.92162, saving model to 30epoch_model.h5\n",
            "Epoch 3/30\n",
            "7352/7352 [==============================] - 90s 12ms/step - loss: 0.1543 - acc: 0.9446 - val_loss: 0.6659 - val_acc: 0.8938\n",
            "\n",
            "Epoch 00003: val_acc did not improve from 0.92162\n",
            "Epoch 4/30\n",
            "7352/7352 [==============================] - 90s 12ms/step - loss: 0.1392 - acc: 0.9510 - val_loss: 0.5478 - val_acc: 0.9108\n",
            "\n",
            "Epoch 00004: val_acc did not improve from 0.92162\n",
            "Epoch 5/30\n",
            "7352/7352 [==============================] - 89s 12ms/step - loss: 0.1407 - acc: 0.9510 - val_loss: 0.5278 - val_acc: 0.9046\n",
            "\n",
            "Epoch 00005: val_acc did not improve from 0.92162\n",
            "Epoch 6/30\n",
            "7352/7352 [==============================] - 90s 12ms/step - loss: 0.1413 - acc: 0.9479 - val_loss: 0.3587 - val_acc: 0.9226\n",
            "\n",
            "Epoch 00006: val_acc improved from 0.92162 to 0.92263, saving model to 30epoch_model.h5\n",
            "Epoch 7/30\n",
            "7352/7352 [==============================] - 90s 12ms/step - loss: 0.1339 - acc: 0.9538 - val_loss: 0.4287 - val_acc: 0.9230\n",
            "\n",
            "Epoch 00007: val_acc improved from 0.92263 to 0.92297, saving model to 30epoch_model.h5\n",
            "Epoch 8/30\n",
            "7352/7352 [==============================] - 90s 12ms/step - loss: 0.1452 - acc: 0.9514 - val_loss: 0.4005 - val_acc: 0.9257\n",
            "\n",
            "Epoch 00008: val_acc improved from 0.92297 to 0.92569, saving model to 30epoch_model.h5\n",
            "Epoch 9/30\n",
            "7352/7352 [==============================] - 91s 12ms/step - loss: 0.1361 - acc: 0.9497 - val_loss: 0.3851 - val_acc: 0.9213\n",
            "\n",
            "Epoch 00009: val_acc did not improve from 0.92569\n",
            "Epoch 10/30\n",
            "7352/7352 [==============================] - 90s 12ms/step - loss: 0.1127 - acc: 0.9531 - val_loss: 0.5152 - val_acc: 0.9165\n",
            "\n",
            "Epoch 00010: val_acc did not improve from 0.92569\n",
            "Epoch 11/30\n",
            "7352/7352 [==============================] - 90s 12ms/step - loss: 0.1424 - acc: 0.9502 - val_loss: 0.4952 - val_acc: 0.9060\n",
            "\n",
            "Epoch 00011: val_acc did not improve from 0.92569\n",
            "Epoch 12/30\n",
            "7352/7352 [==============================] - 93s 13ms/step - loss: 0.1173 - acc: 0.9524 - val_loss: 0.4925 - val_acc: 0.9155\n",
            "\n",
            "Epoch 00012: val_acc did not improve from 0.92569\n",
            "Epoch 13/30\n",
            "7352/7352 [==============================] - 93s 13ms/step - loss: 0.1990 - acc: 0.9376 - val_loss: 0.5372 - val_acc: 0.9046\n",
            "\n",
            "Epoch 00013: val_acc did not improve from 0.92569\n",
            "Epoch 14/30\n",
            "7352/7352 [==============================] - 94s 13ms/step - loss: 0.1220 - acc: 0.9533 - val_loss: 0.3694 - val_acc: 0.9148\n",
            "\n",
            "Epoch 00014: val_acc did not improve from 0.92569\n",
            "Epoch 15/30\n",
            "7352/7352 [==============================] - 95s 13ms/step - loss: 0.1411 - acc: 0.9513 - val_loss: 0.3969 - val_acc: 0.9108\n",
            "\n",
            "Epoch 00015: val_acc did not improve from 0.92569\n",
            "Epoch 16/30\n",
            "7352/7352 [==============================] - 101s 14ms/step - loss: 0.1622 - acc: 0.9521 - val_loss: 0.5342 - val_acc: 0.9108\n",
            "\n",
            "Epoch 00016: val_acc did not improve from 0.92569\n",
            "Epoch 17/30\n",
            "7352/7352 [==============================] - 93s 13ms/step - loss: 0.1218 - acc: 0.9525 - val_loss: 0.3948 - val_acc: 0.9226\n",
            "\n",
            "Epoch 00017: val_acc did not improve from 0.92569\n",
            "Epoch 18/30\n",
            "7352/7352 [==============================] - 95s 13ms/step - loss: 0.2778 - acc: 0.9421 - val_loss: 0.5330 - val_acc: 0.9080\n",
            "\n",
            "Epoch 00018: val_acc did not improve from 0.92569\n",
            "Epoch 19/30\n",
            "7352/7352 [==============================] - 96s 13ms/step - loss: 0.1952 - acc: 0.9381 - val_loss: 0.3751 - val_acc: 0.8962\n",
            "\n",
            "Epoch 00019: val_acc did not improve from 0.92569\n",
            "Epoch 20/30\n",
            "7352/7352 [==============================] - 92s 13ms/step - loss: 0.1765 - acc: 0.9372 - val_loss: 0.6513 - val_acc: 0.9023\n",
            "\n",
            "Epoch 00020: val_acc did not improve from 0.92569\n",
            "Epoch 21/30\n",
            "7352/7352 [==============================] - 92s 13ms/step - loss: 0.1493 - acc: 0.9465 - val_loss: 0.6074 - val_acc: 0.9145\n",
            "\n",
            "Epoch 00021: val_acc did not improve from 0.92569\n",
            "Epoch 22/30\n",
            "7352/7352 [==============================] - 92s 13ms/step - loss: 0.1338 - acc: 0.9467 - val_loss: 0.4867 - val_acc: 0.9179\n",
            "\n",
            "Epoch 00022: val_acc did not improve from 0.92569\n",
            "Epoch 00022: early stopping\n",
            "Test loss: 0.4867024210958139\n",
            "Test accuracy: 0.9178825924669155\n"
          ],
          "name": "stdout"
        }
      ]
    },
    {
      "cell_type": "code",
      "metadata": {
        "id": "TqbegfeLnW5v",
        "colab_type": "code",
        "outputId": "4f77c382-aede-4375-926d-b7a58126c653",
        "colab": {
          "base_uri": "https://localhost:8080/",
          "height": 313
        }
      },
      "source": [
        "score = model_1.evaluate(X_test, Y_test, verbose=0) \n",
        "print('Test score:', score[0]) \n",
        "print('Test accuracy:', score[1])\n",
        "\n",
        "fig,ax = plt.subplots(1,1)\n",
        "ax.set_xlabel('epoch') ; ax.set_ylabel('Categorical Crossentropy Loss')\n",
        "\n",
        "# list of epoch numbers\n",
        "x = list(range(1,epochs+1))\n",
        "\n",
        "vy = history.history['val_loss']\n",
        "ty = history.history['loss']\n",
        "plt_dynamic(x, vy, ty, ax)"
      ],
      "execution_count": 0,
      "outputs": [
        {
          "output_type": "stream",
          "text": [
            "Test score: 0.4867024210958139\n",
            "Test accuracy: 0.9178825924669155\n"
          ],
          "name": "stdout"
        },
        {
          "output_type": "display_data",
          "data": {
            "image/png": "[encoded data removed]",
            "text/plain": [
              "<Figure size 432x288 with 1 Axes>"
            ]
          },
          "metadata": {
            "tags": []
          }
        }
      ]
    },
    {
      "cell_type": "code",
      "metadata": {
        "id": "ZV-c116KJ6H3",
        "colab_type": "code",
        "outputId": "8036ea28-5e08-485d-8e96-758b864473f5",
        "colab": {
          "base_uri": "https://localhost:8080/",
          "height": 187
        }
      },
      "source": [
        "# Confusion Matrix\n",
        "print(confusion_matrix(Y_test, model_1.predict(X_test)))"
      ],
      "execution_count": 0,
      "outputs": [
        {
          "output_type": "stream",
          "text": [
            "Pred                LAYING  SITTING  ...  WALKING_DOWNSTAIRS  WALKING_UPSTAIRS\n",
            "True                                 ...                                      \n",
            "LAYING                 512        0  ...                   0                 0\n",
            "SITTING                  0      380  ...                   0                 2\n",
            "STANDING                 0       67  ...                   0                 0\n",
            "WALKING                  0        2  ...                  10                 1\n",
            "WALKING_DOWNSTAIRS       0        0  ...                 420                 0\n",
            "WALKING_UPSTAIRS         0        4  ...                  18               448\n",
            "\n",
            "[6 rows x 6 columns]\n"
          ],
          "name": "stdout"
        }
      ]
    },
    {
      "cell_type": "code",
      "metadata": {
        "id": "uMQQrh7wQNLC",
        "colab_type": "code",
        "colab": {}
      },
      "source": [
        "# Save the model\n",
        "model_1.save(\"30epoch_model.h5\")"
      ],
      "execution_count": 0,
      "outputs": []
    },
    {
      "cell_type": "code",
      "metadata": {
        "colab_type": "code",
        "id": "wXkOXGmDb1d7",
        "colab": {}
      },
      "source": [
        "from numpy import loadtxt\n",
        "from keras.models import load_model\n",
        "model_2 = load_model('30epoch_model.h5')"
      ],
      "execution_count": 0,
      "outputs": []
    },
    {
      "cell_type": "code",
      "metadata": {
        "colab_type": "code",
        "outputId": "cb83281c-60b7-42b0-a5bb-e5b41d348943",
        "id": "iBeiUe43b1eU",
        "colab": {
          "base_uri": "https://localhost:8080/",
          "height": 357
        }
      },
      "source": [
        "model_2.summary()"
      ],
      "execution_count": 0,
      "outputs": [
        {
          "output_type": "stream",
          "text": [
            "Model: \"sequential_1\"\n",
            "_________________________________________________________________\n",
            "Layer (type)                 Output Shape              Param #   \n",
            "=================================================================\n",
            "lstm_1 (LSTM)                (None, 128, 128)          70656     \n",
            "_________________________________________________________________\n",
            "dropout_1 (Dropout)          (None, 128, 128)          0         \n",
            "_________________________________________________________________\n",
            "lstm_2 (LSTM)                (None, 128)               131584    \n",
            "_________________________________________________________________\n",
            "batch_normalization_1 (Batch (None, 128)               512       \n",
            "_________________________________________________________________\n",
            "dropout_2 (Dropout)          (None, 128)               0         \n",
            "_________________________________________________________________\n",
            "dense_1 (Dense)              (None, 6)                 774       \n",
            "=================================================================\n",
            "Total params: 203,526\n",
            "Trainable params: 203,270\n",
            "Non-trainable params: 256\n",
            "_________________________________________________________________\n"
          ],
          "name": "stdout"
        }
      ]
    },
    {
      "cell_type": "code",
      "metadata": {
        "colab_type": "code",
        "id": "gJ2J2STtb1eh",
        "colab": {}
      },
      "source": [
        "# patient early stopping\n",
        "from keras.callbacks import EarlyStopping\n",
        "es = EarlyStopping(monitor='val_loss', mode='min', verbose=1, patience=20)"
      ],
      "execution_count": 0,
      "outputs": []
    },
    {
      "cell_type": "code",
      "metadata": {
        "colab_type": "code",
        "id": "hwsBYL_Jb1eq",
        "colab": {}
      },
      "source": [
        "# ModelCheckpoint\n",
        "from keras.callbacks import ModelCheckpoint\n",
        "mc = ModelCheckpoint('60epoch_model.h5', monitor='val_acc', mode='max', verbose=1, save_best_only=True)"
      ],
      "execution_count": 0,
      "outputs": []
    },
    {
      "cell_type": "code",
      "metadata": {
        "colab_type": "code",
        "outputId": "7bb64f62-2a3f-4497-999f-a8bfc02c7cd6",
        "id": "g52coG6nb1e4",
        "colab": {
          "base_uri": "https://localhost:8080/",
          "height": 1000
        }
      },
      "source": [
        "# Training the model\n",
        "history4=model_2.fit(X_train,\n",
        "          Y_train,\n",
        "          batch_size=batch_size,\n",
        "          validation_data=(X_test, Y_test),\n",
        "          epochs=15, callbacks=[es, mc])\n",
        "score = model_2.evaluate(X_test, Y_test, verbose=0)\n",
        "print('Test loss:', score[0])\n",
        "print('Test accuracy:', score[1])"
      ],
      "execution_count": 0,
      "outputs": [
        {
          "output_type": "stream",
          "text": [
            "Train on 7352 samples, validate on 2947 samples\n",
            "Epoch 1/15\n",
            "7352/7352 [==============================] - 95s 13ms/step - loss: 0.1421 - acc: 0.9518 - val_loss: 0.4184 - val_acc: 0.9080\n",
            "\n",
            "Epoch 00001: val_acc improved from -inf to 0.90804, saving model to 60epoch_model.h5\n",
            "Epoch 2/15\n",
            "7352/7352 [==============================] - 93s 13ms/step - loss: 0.1268 - acc: 0.9518 - val_loss: 0.4107 - val_acc: 0.9233\n",
            "\n",
            "Epoch 00002: val_acc improved from 0.90804 to 0.92331, saving model to 60epoch_model.h5\n",
            "Epoch 3/15\n",
            "7352/7352 [==============================] - 94s 13ms/step - loss: 0.1192 - acc: 0.9502 - val_loss: 0.4966 - val_acc: 0.9145\n",
            "\n",
            "Epoch 00003: val_acc did not improve from 0.92331\n",
            "Epoch 4/15\n",
            "7352/7352 [==============================] - 94s 13ms/step - loss: 0.1290 - acc: 0.9510 - val_loss: 0.3688 - val_acc: 0.9233\n",
            "\n",
            "Epoch 00004: val_acc did not improve from 0.92331\n",
            "Epoch 5/15\n",
            "7352/7352 [==============================] - 96s 13ms/step - loss: 0.1259 - acc: 0.9514 - val_loss: 0.3129 - val_acc: 0.9298\n",
            "\n",
            "Epoch 00005: val_acc improved from 0.92331 to 0.92976, saving model to 60epoch_model.h5\n",
            "Epoch 6/15\n",
            "7352/7352 [==============================] - 95s 13ms/step - loss: 0.1277 - acc: 0.9546 - val_loss: 0.3187 - val_acc: 0.9287\n",
            "\n",
            "Epoch 00006: val_acc did not improve from 0.92976\n",
            "Epoch 7/15\n",
            "7352/7352 [==============================] - 93s 13ms/step - loss: 0.1248 - acc: 0.9493 - val_loss: 0.4800 - val_acc: 0.9152\n",
            "\n",
            "Epoch 00007: val_acc did not improve from 0.92976\n",
            "Epoch 8/15\n",
            "7352/7352 [==============================] - 96s 13ms/step - loss: 0.1197 - acc: 0.9540 - val_loss: 0.5778 - val_acc: 0.9158\n",
            "\n",
            "Epoch 00008: val_acc did not improve from 0.92976\n",
            "Epoch 9/15\n",
            "7352/7352 [==============================] - 98s 13ms/step - loss: 0.1470 - acc: 0.9527 - val_loss: 0.4999 - val_acc: 0.9091\n",
            "\n",
            "Epoch 00009: val_acc did not improve from 0.92976\n",
            "Epoch 10/15\n",
            "7352/7352 [==============================] - 99s 14ms/step - loss: 0.1283 - acc: 0.9554 - val_loss: 0.4498 - val_acc: 0.9253\n",
            "\n",
            "Epoch 00010: val_acc did not improve from 0.92976\n",
            "Epoch 11/15\n",
            "7352/7352 [==============================] - 97s 13ms/step - loss: 0.1559 - acc: 0.9509 - val_loss: 0.4428 - val_acc: 0.9145\n",
            "\n",
            "Epoch 00011: val_acc did not improve from 0.92976\n",
            "Epoch 12/15\n",
            "7352/7352 [==============================] - 97s 13ms/step - loss: 0.1999 - acc: 0.9518 - val_loss: 0.5448 - val_acc: 0.9108\n",
            "\n",
            "Epoch 00012: val_acc did not improve from 0.92976\n",
            "Epoch 13/15\n",
            "7352/7352 [==============================] - 99s 13ms/step - loss: 0.1229 - acc: 0.9518 - val_loss: 0.5343 - val_acc: 0.9033\n",
            "\n",
            "Epoch 00013: val_acc did not improve from 0.92976\n",
            "Epoch 14/15\n",
            "7352/7352 [==============================] - 99s 13ms/step - loss: 0.1284 - acc: 0.9486 - val_loss: 0.6718 - val_acc: 0.9070\n",
            "\n",
            "Epoch 00014: val_acc did not improve from 0.92976\n",
            "Epoch 15/15\n",
            "7352/7352 [==============================] - 103s 14ms/step - loss: 0.1468 - acc: 0.9470 - val_loss: 0.5388 - val_acc: 0.8938\n",
            "\n",
            "Epoch 00015: val_acc did not improve from 0.92976\n",
            "Test loss: 0.5388459812360064\n",
            "Test accuracy: 0.8937902952154734\n"
          ],
          "name": "stdout"
        }
      ]
    },
    {
      "cell_type": "code",
      "metadata": {
        "colab_type": "code",
        "outputId": "f6d0cba4-e80a-405f-e56f-6ab03bf3f0f8",
        "id": "W0it9CHUb1e-",
        "colab": {
          "base_uri": "https://localhost:8080/",
          "height": 313
        }
      },
      "source": [
        "score = model_2.evaluate(X_test, Y_test, verbose=0) \n",
        "print('Test score:', score[0]) \n",
        "print('Test accuracy:', score[1])\n",
        "\n",
        "fig,ax = plt.subplots(1,1)\n",
        "ax.set_xlabel('epoch') ; ax.set_ylabel('Categorical Crossentropy Loss')\n",
        "\n",
        "# list of epoch numbers\n",
        "x = list(range(1,epochs+1))\n",
        "\n",
        "vy = history.history['val_loss']\n",
        "ty = history.history['loss']\n",
        "plt_dynamic(x, vy, ty, ax)"
      ],
      "execution_count": 0,
      "outputs": [
        {
          "output_type": "stream",
          "text": [
            "Test score: 0.5388459812360064\n",
            "Test accuracy: 0.8937902952154734\n"
          ],
          "name": "stdout"
        },
        {
          "output_type": "display_data",
          "data": {
            "image/png": "[encoded data removed]",
            "text/plain": [
              "<Figure size 432x288 with 1 Axes>"
            ]
          },
          "metadata": {
            "tags": []
          }
        }
      ]
    },
    {
      "cell_type": "code",
      "metadata": {
        "colab_type": "code",
        "id": "_R2tGTrEb1fF",
        "colab": {}
      },
      "source": [
        "# Save the model\n",
        "model_2.save(\"60epoch_model.h5\")"
      ],
      "execution_count": 0,
      "outputs": []
    },
    {
      "cell_type": "code",
      "metadata": {
        "colab_type": "code",
        "id": "y4IuodC3b1fI",
        "colab": {}
      },
      "source": [
        "from numpy import loadtxt\n",
        "from keras.models import load_model\n",
        "model_3 = load_model('60epoch_model.h5')"
      ],
      "execution_count": 0,
      "outputs": []
    },
    {
      "cell_type": "code",
      "metadata": {
        "id": "LdQP0JKxikg_",
        "colab_type": "code",
        "outputId": "f2b0c9ed-f39c-4434-d4ad-f0fa543d4481",
        "colab": {
          "base_uri": "https://localhost:8080/",
          "height": 357
        }
      },
      "source": [
        "model_3.summary()"
      ],
      "execution_count": 0,
      "outputs": [
        {
          "output_type": "stream",
          "text": [
            "Model: \"sequential_1\"\n",
            "_________________________________________________________________\n",
            "Layer (type)                 Output Shape              Param #   \n",
            "=================================================================\n",
            "lstm_1 (LSTM)                (None, 128, 128)          70656     \n",
            "_________________________________________________________________\n",
            "dropout_1 (Dropout)          (None, 128, 128)          0         \n",
            "_________________________________________________________________\n",
            "lstm_2 (LSTM)                (None, 128)               131584    \n",
            "_________________________________________________________________\n",
            "batch_normalization_1 (Batch (None, 128)               512       \n",
            "_________________________________________________________________\n",
            "dropout_2 (Dropout)          (None, 128)               0         \n",
            "_________________________________________________________________\n",
            "dense_1 (Dense)              (None, 6)                 774       \n",
            "=================================================================\n",
            "Total params: 203,526\n",
            "Trainable params: 203,270\n",
            "Non-trainable params: 256\n",
            "_________________________________________________________________\n"
          ],
          "name": "stdout"
        }
      ]
    },
    {
      "cell_type": "code",
      "metadata": {
        "id": "TaSAG2sosm3H",
        "colab_type": "code",
        "colab": {}
      },
      "source": [
        "# Compiling the model\n",
        "model_3.compile(loss='categorical_crossentropy',\n",
        "              optimizer='rmsprop',\n",
        "              metrics=['accuracy'])"
      ],
      "execution_count": 0,
      "outputs": []
    },
    {
      "cell_type": "code",
      "metadata": {
        "colab_type": "code",
        "id": "IyJCE-M1i3CQ",
        "colab": {}
      },
      "source": [
        "# patient early stopping\n",
        "from keras.callbacks import EarlyStopping\n",
        "es = EarlyStopping(monitor='val_loss', mode='min', verbose=1, patience=20)"
      ],
      "execution_count": 0,
      "outputs": []
    },
    {
      "cell_type": "code",
      "metadata": {
        "colab_type": "code",
        "id": "G962Ufaoi3Cf",
        "colab": {}
      },
      "source": [
        "# ModelCheckpoint\n",
        "from keras.callbacks import ModelCheckpoint\n",
        "mc = ModelCheckpoint('70epoch_model.h5', monitor='val_acc', mode='max', verbose=1, save_best_only=True)"
      ],
      "execution_count": 0,
      "outputs": []
    },
    {
      "cell_type": "code",
      "metadata": {
        "colab_type": "code",
        "outputId": "f8a276a2-f218-4af7-b0d0-ed52b1303a9b",
        "id": "EWXY9pI8i3Ck",
        "colab": {
          "base_uri": "https://localhost:8080/",
          "height": 1000
        }
      },
      "source": [
        "# Training the model\n",
        "history4=model_3.fit(X_train,\n",
        "          Y_train,\n",
        "          batch_size=batch_size,\n",
        "          validation_data=(X_test, Y_test),\n",
        "          epochs=15, callbacks=[es, mc])\n",
        "score = model_3.evaluate(X_test, Y_test, verbose=0)\n",
        "print('Test loss:', score[0])\n",
        "print('Test accuracy:', score[1])"
      ],
      "execution_count": 0,
      "outputs": [
        {
          "output_type": "stream",
          "text": [
            "Train on 7352 samples, validate on 2947 samples\n",
            "Epoch 1/15\n",
            "7352/7352 [==============================] - 98s 13ms/step - loss: 0.1583 - acc: 0.9452 - val_loss: 0.2918 - val_acc: 0.9281\n",
            "\n",
            "Epoch 00001: val_acc improved from -inf to 0.92806, saving model to 70epoch_model.h5\n",
            "Epoch 2/15\n",
            "7352/7352 [==============================] - 94s 13ms/step - loss: 0.1946 - acc: 0.9484 - val_loss: 0.4710 - val_acc: 0.9026\n",
            "\n",
            "Epoch 00002: val_acc did not improve from 0.92806\n",
            "Epoch 3/15\n",
            "7352/7352 [==============================] - 94s 13ms/step - loss: 0.1410 - acc: 0.9470 - val_loss: 0.5007 - val_acc: 0.9175\n",
            "\n",
            "Epoch 00003: val_acc did not improve from 0.92806\n",
            "Epoch 4/15\n",
            "7352/7352 [==============================] - 94s 13ms/step - loss: 0.1260 - acc: 0.9493 - val_loss: 0.5708 - val_acc: 0.9050\n",
            "\n",
            "Epoch 00004: val_acc did not improve from 0.92806\n",
            "Epoch 5/15\n",
            "7352/7352 [==============================] - 94s 13ms/step - loss: 0.1395 - acc: 0.9501 - val_loss: 0.5541 - val_acc: 0.9019\n",
            "\n",
            "Epoch 00005: val_acc did not improve from 0.92806\n",
            "Epoch 6/15\n",
            "7352/7352 [==============================] - 94s 13ms/step - loss: 0.1317 - acc: 0.9506 - val_loss: 0.4306 - val_acc: 0.9158\n",
            "\n",
            "Epoch 00006: val_acc did not improve from 0.92806\n",
            "Epoch 7/15\n",
            "7352/7352 [==============================] - 95s 13ms/step - loss: 0.1175 - acc: 0.9553 - val_loss: 0.6858 - val_acc: 0.9016\n",
            "\n",
            "Epoch 00007: val_acc did not improve from 0.92806\n",
            "Epoch 8/15\n",
            "7352/7352 [==============================] - 97s 13ms/step - loss: 0.1336 - acc: 0.9525 - val_loss: 0.5030 - val_acc: 0.9135\n",
            "\n",
            "Epoch 00008: val_acc did not improve from 0.92806\n",
            "Epoch 9/15\n",
            "7352/7352 [==============================] - 98s 13ms/step - loss: 0.1311 - acc: 0.9483 - val_loss: 0.5106 - val_acc: 0.9080\n",
            "\n",
            "Epoch 00009: val_acc did not improve from 0.92806\n",
            "Epoch 10/15\n",
            "7352/7352 [==============================] - 103s 14ms/step - loss: 0.1435 - acc: 0.9509 - val_loss: 0.4581 - val_acc: 0.9165\n",
            "\n",
            "Epoch 00010: val_acc did not improve from 0.92806\n",
            "Epoch 11/15\n",
            "7352/7352 [==============================] - 96s 13ms/step - loss: 0.1466 - acc: 0.9523 - val_loss: 0.7509 - val_acc: 0.8935\n",
            "\n",
            "Epoch 00011: val_acc did not improve from 0.92806\n",
            "Epoch 12/15\n",
            "7352/7352 [==============================] - 95s 13ms/step - loss: 0.2185 - acc: 0.9426 - val_loss: 0.5349 - val_acc: 0.9141\n",
            "\n",
            "Epoch 00012: val_acc did not improve from 0.92806\n",
            "Epoch 13/15\n",
            "7352/7352 [==============================] - 95s 13ms/step - loss: 0.1757 - acc: 0.9498 - val_loss: 0.3836 - val_acc: 0.9169\n",
            "\n",
            "Epoch 00013: val_acc did not improve from 0.92806\n",
            "Epoch 14/15\n",
            "7352/7352 [==============================] - 94s 13ms/step - loss: 0.1457 - acc: 0.9484 - val_loss: 0.4021 - val_acc: 0.9074\n",
            "\n",
            "Epoch 00014: val_acc did not improve from 0.92806\n",
            "Epoch 15/15\n",
            "7352/7352 [==============================] - 94s 13ms/step - loss: 0.1295 - acc: 0.9490 - val_loss: 0.4395 - val_acc: 0.9128\n",
            "\n",
            "Epoch 00015: val_acc did not improve from 0.92806\n",
            "Test loss: 0.4395436131623223\n",
            "Test accuracy: 0.9127926705123854\n"
          ],
          "name": "stdout"
        }
      ]
    },
    {
      "cell_type": "code",
      "metadata": {
        "id": "67sJLJ5ci-lY",
        "colab_type": "code",
        "outputId": "f9259255-badf-4520-84df-1ab62f5c4f2a",
        "colab": {
          "base_uri": "https://localhost:8080/",
          "height": 313
        }
      },
      "source": [
        "score = model_3.evaluate(X_test, Y_test, verbose=0) \n",
        "print('Test score:', score[0]) \n",
        "print('Test accuracy:', score[1])\n",
        "\n",
        "fig,ax = plt.subplots(1,1)\n",
        "ax.set_xlabel('epoch') ; ax.set_ylabel('Categorical Crossentropy Loss')\n",
        "\n",
        "# list of epoch numbers\n",
        "x = list(range(1,epochs+1))\n",
        "\n",
        "vy = history.history['val_loss']\n",
        "ty = history.history['loss']\n",
        "plt_dynamic(x, vy, ty, ax)"
      ],
      "execution_count": 0,
      "outputs": [
        {
          "output_type": "stream",
          "text": [
            "Test score: 0.4395436131623223\n",
            "Test accuracy: 0.9127926705123854\n"
          ],
          "name": "stdout"
        },
        {
          "output_type": "display_data",
          "data": {
            "image/png": "[encoded data removed]",
            "text/plain": [
              "<Figure size 432x288 with 1 Axes>"
            ]
          },
          "metadata": {
            "tags": []
          }
        }
      ]
    },
    {
      "cell_type": "code",
      "metadata": {
        "id": "W0bM0u7pm4GJ",
        "colab_type": "code",
        "colab": {}
      },
      "source": [
        "# Save the model\n",
        "model_3.save(\"70epoch_model.h5\")"
      ],
      "execution_count": 0,
      "outputs": []
    },
    {
      "cell_type": "code",
      "metadata": {
        "colab_type": "code",
        "id": "J-IdsWfjniWH",
        "colab": {}
      },
      "source": [
        "from numpy import loadtxt\n",
        "from keras.models import load_model\n",
        "model_4 = load_model('70epoch_model.h5')"
      ],
      "execution_count": 0,
      "outputs": []
    },
    {
      "cell_type": "code",
      "metadata": {
        "colab_type": "code",
        "outputId": "86644e6a-cc01-404c-8a6b-e0271ca616a4",
        "id": "EFojhZRbniWa",
        "colab": {
          "base_uri": "https://localhost:8080/",
          "height": 357
        }
      },
      "source": [
        "model_4.summary()"
      ],
      "execution_count": 0,
      "outputs": [
        {
          "output_type": "stream",
          "text": [
            "Model: \"sequential_1\"\n",
            "_________________________________________________________________\n",
            "Layer (type)                 Output Shape              Param #   \n",
            "=================================================================\n",
            "lstm_1 (LSTM)                (None, 128, 128)          70656     \n",
            "_________________________________________________________________\n",
            "dropout_1 (Dropout)          (None, 128, 128)          0         \n",
            "_________________________________________________________________\n",
            "lstm_2 (LSTM)                (None, 128)               131584    \n",
            "_________________________________________________________________\n",
            "batch_normalization_1 (Batch (None, 128)               512       \n",
            "_________________________________________________________________\n",
            "dropout_2 (Dropout)          (None, 128)               0         \n",
            "_________________________________________________________________\n",
            "dense_1 (Dense)              (None, 6)                 774       \n",
            "=================================================================\n",
            "Total params: 203,526\n",
            "Trainable params: 203,270\n",
            "Non-trainable params: 256\n",
            "_________________________________________________________________\n"
          ],
          "name": "stdout"
        }
      ]
    },
    {
      "cell_type": "code",
      "metadata": {
        "id": "W4OLSKuwyn75",
        "colab_type": "code",
        "colab": {}
      },
      "source": [
        "# Compiling the model\n",
        "model_4.compile(loss='categorical_crossentropy',\n",
        "              optimizer='rmsprop',\n",
        "              metrics=['accuracy'])"
      ],
      "execution_count": 0,
      "outputs": []
    },
    {
      "cell_type": "code",
      "metadata": {
        "colab_type": "code",
        "id": "4LCOu7aeniWp",
        "colab": {}
      },
      "source": [
        "# patient early stopping\n",
        "from keras.callbacks import EarlyStopping\n",
        "es = EarlyStopping(monitor='val_loss', mode='min', verbose=1, patience=20)"
      ],
      "execution_count": 0,
      "outputs": []
    },
    {
      "cell_type": "code",
      "metadata": {
        "colab_type": "code",
        "id": "9fRgk8FdniWx",
        "colab": {}
      },
      "source": [
        "# ModelCheckpoint\n",
        "from keras.callbacks import ModelCheckpoint\n",
        "mc = ModelCheckpoint('80epoch_model.h5', monitor='val_acc', mode='max', verbose=1, save_best_only=True)"
      ],
      "execution_count": 0,
      "outputs": []
    },
    {
      "cell_type": "code",
      "metadata": {
        "colab_type": "code",
        "outputId": "b4a66f36-e5ad-4627-e0cc-ecfd4992bb3e",
        "id": "3CVYzjAuniW6",
        "colab": {
          "base_uri": "https://localhost:8080/",
          "height": 748
        }
      },
      "source": [
        "# Training the model\n",
        "history5=model_4.fit(X_train,\n",
        "          Y_train,\n",
        "          batch_size=batch_size,\n",
        "          validation_data=(X_test, Y_test),\n",
        "          epochs=10, callbacks=[es, mc])\n",
        "score = model_4.evaluate(X_test, Y_test, verbose=0)\n",
        "print('Test loss:', score[0])\n",
        "print('Test accuracy:', score[1])"
      ],
      "execution_count": 0,
      "outputs": [
        {
          "output_type": "stream",
          "text": [
            "Train on 7352 samples, validate on 2947 samples\n",
            "Epoch 1/10\n",
            "7352/7352 [==============================] - 100s 14ms/step - loss: 0.1495 - acc: 0.9520 - val_loss: 0.5311 - val_acc: 0.9121\n",
            "\n",
            "Epoch 00001: val_acc improved from -inf to 0.91211, saving model to 80epoch_model.h5\n",
            "Epoch 2/10\n",
            "7352/7352 [==============================] - 94s 13ms/step - loss: 0.1297 - acc: 0.9513 - val_loss: 0.3476 - val_acc: 0.9209\n",
            "\n",
            "Epoch 00002: val_acc improved from 0.91211 to 0.92094, saving model to 80epoch_model.h5\n",
            "Epoch 3/10\n",
            "7352/7352 [==============================] - 95s 13ms/step - loss: 0.1227 - acc: 0.9524 - val_loss: 0.4481 - val_acc: 0.9084\n",
            "\n",
            "Epoch 00003: val_acc did not improve from 0.92094\n",
            "Epoch 4/10\n",
            "7352/7352 [==============================] - 94s 13ms/step - loss: 0.1190 - acc: 0.9524 - val_loss: 0.4744 - val_acc: 0.9097\n",
            "\n",
            "Epoch 00004: val_acc did not improve from 0.92094\n",
            "Epoch 5/10\n",
            "7352/7352 [==============================] - 93s 13ms/step - loss: 0.1088 - acc: 0.9574 - val_loss: 0.4568 - val_acc: 0.9192\n",
            "\n",
            "Epoch 00005: val_acc did not improve from 0.92094\n",
            "Epoch 6/10\n",
            "7352/7352 [==============================] - 96s 13ms/step - loss: 0.1119 - acc: 0.9555 - val_loss: 0.4377 - val_acc: 0.9199\n",
            "\n",
            "Epoch 00006: val_acc did not improve from 0.92094\n",
            "Epoch 7/10\n",
            "7352/7352 [==============================] - 96s 13ms/step - loss: 0.1244 - acc: 0.9546 - val_loss: 0.4904 - val_acc: 0.9145\n",
            "\n",
            "Epoch 00007: val_acc did not improve from 0.92094\n",
            "Epoch 8/10\n",
            "7352/7352 [==============================] - 95s 13ms/step - loss: 0.1289 - acc: 0.9499 - val_loss: 0.5332 - val_acc: 0.9158\n",
            "\n",
            "Epoch 00008: val_acc did not improve from 0.92094\n",
            "Epoch 9/10\n",
            "7352/7352 [==============================] - 95s 13ms/step - loss: 0.1216 - acc: 0.9572 - val_loss: 0.4696 - val_acc: 0.9036\n",
            "\n",
            "Epoch 00009: val_acc did not improve from 0.92094\n",
            "Epoch 10/10\n",
            "7352/7352 [==============================] - 95s 13ms/step - loss: 0.1183 - acc: 0.9484 - val_loss: 0.4596 - val_acc: 0.9046\n",
            "\n",
            "Epoch 00010: val_acc did not improve from 0.92094\n",
            "Test loss: 0.45956417720007264\n",
            "Test accuracy: 0.9046487953851374\n"
          ],
          "name": "stdout"
        }
      ]
    },
    {
      "cell_type": "code",
      "metadata": {
        "colab_type": "code",
        "outputId": "4710817f-47e7-4d48-cb75-56b25e71bef5",
        "id": "i8i661bHniXD",
        "colab": {
          "base_uri": "https://localhost:8080/",
          "height": 313
        }
      },
      "source": [
        "score = model_4.evaluate(X_test, Y_test, verbose=0) \n",
        "print('Test score:', score[0]) \n",
        "print('Test accuracy:', score[1])\n",
        "\n",
        "fig,ax = plt.subplots(1,1)\n",
        "ax.set_xlabel('epoch') ; ax.set_ylabel('Categorical Crossentropy Loss')\n",
        "\n",
        "# list of epoch numbers\n",
        "x = list(range(1,epochs+1))\n",
        "\n",
        "vy = history.history['val_loss']\n",
        "ty = history.history['loss']\n",
        "plt_dynamic(x, vy, ty, ax)"
      ],
      "execution_count": 0,
      "outputs": [
        {
          "output_type": "stream",
          "text": [
            "Test score: 0.45956417720007264\n",
            "Test accuracy: 0.9046487953851374\n"
          ],
          "name": "stdout"
        },
        {
          "output_type": "display_data",
          "data": {
            "image/png": "[encoded data removed]",
            "text/plain": [
              "<Figure size 432x288 with 1 Axes>"
            ]
          },
          "metadata": {
            "tags": []
          }
        }
      ]
    },
    {
      "cell_type": "code",
      "metadata": {
        "colab_type": "code",
        "id": "G1oSntyHsHSV",
        "colab": {}
      },
      "source": [
        "# Save the model\n",
        "model_4.save(\"80epoch_model.h5\")"
      ],
      "execution_count": 0,
      "outputs": []
    },
    {
      "cell_type": "code",
      "metadata": {
        "colab_type": "code",
        "id": "7XGIn38fsHSq",
        "colab": {}
      },
      "source": [
        "from numpy import loadtxt\n",
        "from keras.models import load_model\n",
        "model_5 = load_model('80epoch_model.h5')"
      ],
      "execution_count": 0,
      "outputs": []
    },
    {
      "cell_type": "code",
      "metadata": {
        "colab_type": "code",
        "outputId": "f76ba052-ca37-472b-ff7b-2c71124e3bd5",
        "id": "OBBib7gMsHSz",
        "colab": {
          "base_uri": "https://localhost:8080/",
          "height": 357
        }
      },
      "source": [
        "model_5.summary()"
      ],
      "execution_count": 0,
      "outputs": [
        {
          "output_type": "stream",
          "text": [
            "Model: \"sequential_1\"\n",
            "_________________________________________________________________\n",
            "Layer (type)                 Output Shape              Param #   \n",
            "=================================================================\n",
            "lstm_1 (LSTM)                (None, 128, 128)          70656     \n",
            "_________________________________________________________________\n",
            "dropout_1 (Dropout)          (None, 128, 128)          0         \n",
            "_________________________________________________________________\n",
            "lstm_2 (LSTM)                (None, 128)               131584    \n",
            "_________________________________________________________________\n",
            "batch_normalization_1 (Batch (None, 128)               512       \n",
            "_________________________________________________________________\n",
            "dropout_2 (Dropout)          (None, 128)               0         \n",
            "_________________________________________________________________\n",
            "dense_1 (Dense)              (None, 6)                 774       \n",
            "=================================================================\n",
            "Total params: 203,526\n",
            "Trainable params: 203,270\n",
            "Non-trainable params: 256\n",
            "_________________________________________________________________\n"
          ],
          "name": "stdout"
        }
      ]
    },
    {
      "cell_type": "code",
      "metadata": {
        "id": "MjJAMxjr4Rz9",
        "colab_type": "code",
        "colab": {}
      },
      "source": [
        "# Compiling the model\n",
        "model_5.compile(loss='categorical_crossentropy',\n",
        "              optimizer='rmsprop',\n",
        "              metrics=['accuracy'])"
      ],
      "execution_count": 0,
      "outputs": []
    },
    {
      "cell_type": "code",
      "metadata": {
        "colab_type": "code",
        "id": "q1ZqDqPrsHS-",
        "colab": {}
      },
      "source": [
        "# patient early stopping\n",
        "from keras.callbacks import EarlyStopping\n",
        "es = EarlyStopping(monitor='val_loss', mode='min', verbose=1, patience=20)"
      ],
      "execution_count": 0,
      "outputs": []
    },
    {
      "cell_type": "code",
      "metadata": {
        "colab_type": "code",
        "id": "1YN_dwjqsHTL",
        "colab": {}
      },
      "source": [
        "# ModelCheckpoint\n",
        "from keras.callbacks import ModelCheckpoint\n",
        "mc = ModelCheckpoint('90epoch_model.h5', monitor='val_acc', mode='max', verbose=1, save_best_only=True)"
      ],
      "execution_count": 0,
      "outputs": []
    },
    {
      "cell_type": "code",
      "metadata": {
        "colab_type": "code",
        "outputId": "7e4a6ba3-1adb-419b-a0eb-c33433c9fe6b",
        "id": "1Zz2-YDrsHTV",
        "colab": {
          "base_uri": "https://localhost:8080/",
          "height": 748
        }
      },
      "source": [
        "# Training the model\n",
        "history4=model_5.fit(X_train,\n",
        "          Y_train,\n",
        "          batch_size=batch_size,\n",
        "          validation_data=(X_test, Y_test),\n",
        "          epochs=10, callbacks=[es, mc])\n",
        "score = model_5.evaluate(X_test, Y_test, verbose=0)\n",
        "print('Test loss:', score[0])\n",
        "print('Test accuracy:', score[1])"
      ],
      "execution_count": 0,
      "outputs": [
        {
          "output_type": "stream",
          "text": [
            "Train on 7352 samples, validate on 2947 samples\n",
            "Epoch 1/10\n",
            "7352/7352 [==============================] - 103s 14ms/step - loss: 0.1144 - acc: 0.9539 - val_loss: 0.4207 - val_acc: 0.9179\n",
            "\n",
            "Epoch 00001: val_acc improved from -inf to 0.91788, saving model to 90epoch_model.h5\n",
            "Epoch 2/10\n",
            "7352/7352 [==============================] - 96s 13ms/step - loss: 0.1511 - acc: 0.9543 - val_loss: 0.5600 - val_acc: 0.9243\n",
            "\n",
            "Epoch 00002: val_acc improved from 0.91788 to 0.92433, saving model to 90epoch_model.h5\n",
            "Epoch 3/10\n",
            "7352/7352 [==============================] - 97s 13ms/step - loss: 0.2194 - acc: 0.9467 - val_loss: 0.4281 - val_acc: 0.9203\n",
            "\n",
            "Epoch 00003: val_acc did not improve from 0.92433\n",
            "Epoch 4/10\n",
            "7352/7352 [==============================] - 101s 14ms/step - loss: 0.1172 - acc: 0.9567 - val_loss: 0.3930 - val_acc: 0.9247\n",
            "\n",
            "Epoch 00004: val_acc improved from 0.92433 to 0.92467, saving model to 90epoch_model.h5\n",
            "Epoch 5/10\n",
            "7352/7352 [==============================] - 103s 14ms/step - loss: 0.1302 - acc: 0.9486 - val_loss: 0.6710 - val_acc: 0.9040\n",
            "\n",
            "Epoch 00005: val_acc did not improve from 0.92467\n",
            "Epoch 6/10\n",
            "7352/7352 [==============================] - 103s 14ms/step - loss: 0.1995 - acc: 0.9461 - val_loss: 0.3284 - val_acc: 0.9287\n",
            "\n",
            "Epoch 00006: val_acc improved from 0.92467 to 0.92874, saving model to 90epoch_model.h5\n",
            "Epoch 7/10\n",
            "7352/7352 [==============================] - 103s 14ms/step - loss: 0.1234 - acc: 0.9547 - val_loss: 0.4237 - val_acc: 0.9233\n",
            "\n",
            "Epoch 00007: val_acc did not improve from 0.92874\n",
            "Epoch 8/10\n",
            "7352/7352 [==============================] - 101s 14ms/step - loss: 0.1173 - acc: 0.9529 - val_loss: 0.4062 - val_acc: 0.9216\n",
            "\n",
            "Epoch 00008: val_acc did not improve from 0.92874\n",
            "Epoch 9/10\n",
            "7352/7352 [==============================] - 101s 14ms/step - loss: 0.1340 - acc: 0.9542 - val_loss: 0.4392 - val_acc: 0.9186\n",
            "\n",
            "Epoch 00009: val_acc did not improve from 0.92874\n",
            "Epoch 10/10\n",
            "7352/7352 [==============================] - 101s 14ms/step - loss: 0.1387 - acc: 0.9529 - val_loss: 0.2910 - val_acc: 0.9291\n",
            "\n",
            "Epoch 00010: val_acc improved from 0.92874 to 0.92908, saving model to 90epoch_model.h5\n",
            "Test loss: 0.2910023735648925\n",
            "Test accuracy: 0.9290804207668816\n"
          ],
          "name": "stdout"
        }
      ]
    },
    {
      "cell_type": "code",
      "metadata": {
        "colab_type": "code",
        "outputId": "4eaf288d-0026-40f3-e6e0-8d54cd7f94c9",
        "id": "98X8lBvD_YTw",
        "colab": {
          "base_uri": "https://localhost:8080/",
          "height": 313
        }
      },
      "source": [
        "score = model_5.evaluate(X_test, Y_test, verbose=0) \n",
        "print('Test score:', score[0]) \n",
        "print('Test accuracy:', score[1])\n",
        "\n",
        "fig,ax = plt.subplots(1,1)\n",
        "ax.set_xlabel('epoch') ; ax.set_ylabel('Categorical Crossentropy Loss')\n",
        "\n",
        "# list of epoch numbers\n",
        "x = list(range(1,epochs+1))\n",
        "\n",
        "vy = history.history['val_loss']\n",
        "ty = history.history['loss']\n",
        "plt_dynamic(x, vy, ty, ax)"
      ],
      "execution_count": 0,
      "outputs": [
        {
          "output_type": "stream",
          "text": [
            "Test score: 0.2910023735648925\n",
            "Test accuracy: 0.9290804207668816\n"
          ],
          "name": "stdout"
        },
        {
          "output_type": "display_data",
          "data": {
            "image/png": "[encoded data removed]",
            "text/plain": [
              "<Figure size 432x288 with 1 Axes>"
            ]
          },
          "metadata": {
            "tags": []
          }
        }
      ]
    },
    {
      "cell_type": "code",
      "metadata": {
        "colab_type": "code",
        "id": "RakLyaTR_YUZ",
        "colab": {}
      },
      "source": [
        "# Save the model\n",
        "model_5.save(\"90epoch_model.h5\")"
      ],
      "execution_count": 0,
      "outputs": []
    },
    {
      "cell_type": "markdown",
      "metadata": {
        "id": "OfKwPWFVoh7I",
        "colab_type": "text"
      },
      "source": [
        "- With a simple 2 layer architecture with 128 LSTM units we got 93% accuracy and a loss of 0.29."
      ]
    }
  ]
}